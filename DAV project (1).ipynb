{
 "cells": [
  {
   "cell_type": "code",
   "execution_count": 1,
   "id": "17cd321c",
   "metadata": {},
   "outputs": [],
   "source": [
    "import numpy as np\n",
    "import pandas as pd\n",
    "import matplotlib.pyplot as plt\n",
    "import seaborn as sns\n",
    "# importing some libraries what i need.."
   ]
  },
  {
   "cell_type": "markdown",
   "id": "864f9910",
   "metadata": {},
   "source": [
    "Am importing some libraries for  the DAV "
   ]
  },
  {
   "cell_type": "code",
   "execution_count": 2,
   "id": "9c7718ee",
   "metadata": {},
   "outputs": [],
   "source": [
    "data=pd.read_csv(\"rocket launch data.csv\")\n",
    "# reading the CSV file"
   ]
  },
  {
   "cell_type": "code",
   "execution_count": 3,
   "id": "0f55551a",
   "metadata": {},
   "outputs": [
    {
     "data": {
      "text/html": [
       "<div>\n",
       "<style scoped>\n",
       "    .dataframe tbody tr th:only-of-type {\n",
       "        vertical-align: middle;\n",
       "    }\n",
       "\n",
       "    .dataframe tbody tr th {\n",
       "        vertical-align: top;\n",
       "    }\n",
       "\n",
       "    .dataframe thead th {\n",
       "        text-align: right;\n",
       "    }\n",
       "</style>\n",
       "<table border=\"1\" class=\"dataframe\">\n",
       "  <thead>\n",
       "    <tr style=\"text-align: right;\">\n",
       "      <th></th>\n",
       "      <th>Company</th>\n",
       "      <th>Location</th>\n",
       "      <th>Year</th>\n",
       "      <th>Time</th>\n",
       "      <th>Rocket</th>\n",
       "      <th>MissionStatus</th>\n",
       "      <th>RocketStatus</th>\n",
       "      <th>Price</th>\n",
       "      <th>Mission</th>\n",
       "    </tr>\n",
       "  </thead>\n",
       "  <tbody>\n",
       "    <tr>\n",
       "      <th>0</th>\n",
       "      <td>AEB</td>\n",
       "      <td>VLS Pad, Alcântara Launch Center, Maranhão, Br...</td>\n",
       "      <td>1997</td>\n",
       "      <td>NaN</td>\n",
       "      <td>VLS-1</td>\n",
       "      <td>0</td>\n",
       "      <td>Retired</td>\n",
       "      <td>NaN</td>\n",
       "      <td>SCD-2A</td>\n",
       "    </tr>\n",
       "    <tr>\n",
       "      <th>1</th>\n",
       "      <td>AEB</td>\n",
       "      <td>VLS Pad, Alcântara Launch Center, Maranhão, Br...</td>\n",
       "      <td>1999</td>\n",
       "      <td>1899-12-30 19:40:00</td>\n",
       "      <td>VLS-1</td>\n",
       "      <td>0</td>\n",
       "      <td>Retired</td>\n",
       "      <td>NaN</td>\n",
       "      <td>SACI-2</td>\n",
       "    </tr>\n",
       "    <tr>\n",
       "      <th>2</th>\n",
       "      <td>AEB</td>\n",
       "      <td>VLS Pad, Alcântara Launch Center, Maranhão, Br...</td>\n",
       "      <td>2003</td>\n",
       "      <td>NaN</td>\n",
       "      <td>VLS-1</td>\n",
       "      <td>0</td>\n",
       "      <td>Retired</td>\n",
       "      <td>NaN</td>\n",
       "      <td>SATEC, UNOSAT</td>\n",
       "    </tr>\n",
       "    <tr>\n",
       "      <th>3</th>\n",
       "      <td>AMBA</td>\n",
       "      <td>LA-5B, RAAF Woomera Range Complex, Australia</td>\n",
       "      <td>1967</td>\n",
       "      <td>NaN</td>\n",
       "      <td>Redstone Sparta</td>\n",
       "      <td>1</td>\n",
       "      <td>Retired</td>\n",
       "      <td>NaN</td>\n",
       "      <td>WRESAT</td>\n",
       "    </tr>\n",
       "    <tr>\n",
       "      <th>4</th>\n",
       "      <td>AMBA</td>\n",
       "      <td>LC-26A, Cape Canaveral AFS, Florida, USA</td>\n",
       "      <td>1958</td>\n",
       "      <td>1899-12-30 03:48:00</td>\n",
       "      <td>Juno I</td>\n",
       "      <td>1</td>\n",
       "      <td>Retired</td>\n",
       "      <td>NaN</td>\n",
       "      <td>Explorer 1</td>\n",
       "    </tr>\n",
       "    <tr>\n",
       "      <th>...</th>\n",
       "      <td>...</td>\n",
       "      <td>...</td>\n",
       "      <td>...</td>\n",
       "      <td>...</td>\n",
       "      <td>...</td>\n",
       "      <td>...</td>\n",
       "      <td>...</td>\n",
       "      <td>...</td>\n",
       "      <td>...</td>\n",
       "    </tr>\n",
       "    <tr>\n",
       "      <th>4621</th>\n",
       "      <td>VKS RF</td>\n",
       "      <td>Site 90/20, Baikonur Cosmodrome, Kazakhstan</td>\n",
       "      <td>2001</td>\n",
       "      <td>1899-12-30 04:00:00</td>\n",
       "      <td>Tsyklon-2</td>\n",
       "      <td>1</td>\n",
       "      <td>Retired</td>\n",
       "      <td>NaN</td>\n",
       "      <td>Cosmos 2383</td>\n",
       "    </tr>\n",
       "    <tr>\n",
       "      <th>4622</th>\n",
       "      <td>VKS RF</td>\n",
       "      <td>Site 90/20, Baikonur Cosmodrome, Kazakhstan</td>\n",
       "      <td>2004</td>\n",
       "      <td>1899-12-30 06:00:00</td>\n",
       "      <td>Tsyklon-2</td>\n",
       "      <td>1</td>\n",
       "      <td>Retired</td>\n",
       "      <td>NaN</td>\n",
       "      <td>Cosmos 2405</td>\n",
       "    </tr>\n",
       "    <tr>\n",
       "      <th>4623</th>\n",
       "      <td>VKS RF</td>\n",
       "      <td>Site 90/20, Baikonur Cosmodrome, Kazakhstan</td>\n",
       "      <td>2006</td>\n",
       "      <td>1899-12-30 04:00:00</td>\n",
       "      <td>Tsyklon-2</td>\n",
       "      <td>1</td>\n",
       "      <td>Retired</td>\n",
       "      <td>NaN</td>\n",
       "      <td>Cosmos 2421</td>\n",
       "    </tr>\n",
       "    <tr>\n",
       "      <th>4624</th>\n",
       "      <td>Yuzhmash</td>\n",
       "      <td>Site 32/2, Plesetsk Cosmodrome, Russia</td>\n",
       "      <td>1991</td>\n",
       "      <td>1899-12-30 03:54:00</td>\n",
       "      <td>Tsyklon-3</td>\n",
       "      <td>1</td>\n",
       "      <td>Retired</td>\n",
       "      <td>NaN</td>\n",
       "      <td>Intercosmos 25 &amp; Magion 3</td>\n",
       "    </tr>\n",
       "    <tr>\n",
       "      <th>4625</th>\n",
       "      <td>Yuzhmash</td>\n",
       "      <td>Site 90/20, Baikonur Cosmodrome, Kazakhstan</td>\n",
       "      <td>1969</td>\n",
       "      <td>1899-12-30 10:59:00</td>\n",
       "      <td>Tsyklon-2</td>\n",
       "      <td>1</td>\n",
       "      <td>Retired</td>\n",
       "      <td>NaN</td>\n",
       "      <td>IS Mass Model</td>\n",
       "    </tr>\n",
       "  </tbody>\n",
       "</table>\n",
       "<p>4626 rows × 9 columns</p>\n",
       "</div>"
      ],
      "text/plain": [
       "       Company                                           Location  Year  \\\n",
       "0          AEB  VLS Pad, Alcântara Launch Center, Maranhão, Br...  1997   \n",
       "1          AEB  VLS Pad, Alcântara Launch Center, Maranhão, Br...  1999   \n",
       "2          AEB  VLS Pad, Alcântara Launch Center, Maranhão, Br...  2003   \n",
       "3         AMBA       LA-5B, RAAF Woomera Range Complex, Australia  1967   \n",
       "4         AMBA           LC-26A, Cape Canaveral AFS, Florida, USA  1958   \n",
       "...        ...                                                ...   ...   \n",
       "4621    VKS RF        Site 90/20, Baikonur Cosmodrome, Kazakhstan  2001   \n",
       "4622    VKS RF        Site 90/20, Baikonur Cosmodrome, Kazakhstan  2004   \n",
       "4623    VKS RF        Site 90/20, Baikonur Cosmodrome, Kazakhstan  2006   \n",
       "4624  Yuzhmash             Site 32/2, Plesetsk Cosmodrome, Russia  1991   \n",
       "4625  Yuzhmash        Site 90/20, Baikonur Cosmodrome, Kazakhstan  1969   \n",
       "\n",
       "                     Time           Rocket  MissionStatus RocketStatus  Price  \\\n",
       "0                     NaN            VLS-1              0      Retired    NaN   \n",
       "1     1899-12-30 19:40:00            VLS-1              0      Retired    NaN   \n",
       "2                     NaN            VLS-1              0      Retired    NaN   \n",
       "3                     NaN  Redstone Sparta              1      Retired    NaN   \n",
       "4     1899-12-30 03:48:00           Juno I              1      Retired    NaN   \n",
       "...                   ...              ...            ...          ...    ...   \n",
       "4621  1899-12-30 04:00:00        Tsyklon-2              1      Retired    NaN   \n",
       "4622  1899-12-30 06:00:00        Tsyklon-2              1      Retired    NaN   \n",
       "4623  1899-12-30 04:00:00        Tsyklon-2              1      Retired    NaN   \n",
       "4624  1899-12-30 03:54:00        Tsyklon-3              1      Retired    NaN   \n",
       "4625  1899-12-30 10:59:00        Tsyklon-2              1      Retired    NaN   \n",
       "\n",
       "                        Mission  \n",
       "0                        SCD-2A  \n",
       "1                        SACI-2  \n",
       "2                 SATEC, UNOSAT  \n",
       "3                        WRESAT  \n",
       "4                    Explorer 1  \n",
       "...                         ...  \n",
       "4621                Cosmos 2383  \n",
       "4622                Cosmos 2405  \n",
       "4623                Cosmos 2421  \n",
       "4624  Intercosmos 25 & Magion 3  \n",
       "4625              IS Mass Model  \n",
       "\n",
       "[4626 rows x 9 columns]"
      ]
     },
     "execution_count": 3,
     "metadata": {},
     "output_type": "execute_result"
    }
   ],
   "source": [
    "data"
   ]
  },
  {
   "cell_type": "code",
   "execution_count": 4,
   "id": "01ff0374",
   "metadata": {},
   "outputs": [
    {
     "data": {
      "text/plain": [
       "Company           object\n",
       "Location          object\n",
       "Year               int64\n",
       "Time              object\n",
       "Rocket            object\n",
       "MissionStatus      int64\n",
       "RocketStatus      object\n",
       "Price            float64\n",
       "Mission           object\n",
       "dtype: object"
      ]
     },
     "execution_count": 4,
     "metadata": {},
     "output_type": "execute_result"
    }
   ],
   "source": [
    "data.dtypes\n",
    "# seeing the data types"
   ]
  },
  {
   "cell_type": "code",
   "execution_count": 5,
   "id": "edb8610d",
   "metadata": {},
   "outputs": [
    {
     "data": {
      "text/plain": [
       "37008"
      ]
     },
     "execution_count": 5,
     "metadata": {},
     "output_type": "execute_result"
    }
   ],
   "source": [
    "data['Location'].nbytes"
   ]
  },
  {
   "cell_type": "code",
   "execution_count": 6,
   "id": "85ff9dfe",
   "metadata": {},
   "outputs": [
    {
     "data": {
      "text/plain": [
       "Index(['Company', 'Location', 'Year', 'Time', 'Rocket', 'MissionStatus',\n",
       "       'RocketStatus', 'Price', 'Mission'],\n",
       "      dtype='object')"
      ]
     },
     "execution_count": 6,
     "metadata": {},
     "output_type": "execute_result"
    }
   ],
   "source": [
    "data.columns\n",
    "# visual the column names"
   ]
  },
  {
   "cell_type": "code",
   "execution_count": 7,
   "id": "fb1f8dcd",
   "metadata": {},
   "outputs": [
    {
     "data": {
      "text/plain": [
       "['&']"
      ]
     },
     "execution_count": 7,
     "metadata": {},
     "output_type": "execute_result"
    }
   ],
   "source": [
    "import re\n",
    "x=re.findall(r\"[!|@|#|$|%|^|&|*|(|)|?]+\", str(data))\n",
    "x\n",
    "# cheaking the junk values\n"
   ]
  },
  {
   "cell_type": "markdown",
   "id": "bac88b03",
   "metadata": {},
   "source": [
    "Now am cheaking is there any junk values in my dataset\n",
    "with using the regular Expression"
   ]
  },
  {
   "cell_type": "code",
   "execution_count": 8,
   "id": "d5cc0c84",
   "metadata": {},
   "outputs": [
    {
     "data": {
      "text/plain": [
       "Index(['Company', 'Location', 'Year', 'Time', 'Rocket', 'MissionStatus',\n",
       "       'RocketStatus', 'Price', 'Mission'],\n",
       "      dtype='object')"
      ]
     },
     "execution_count": 8,
     "metadata": {},
     "output_type": "execute_result"
    }
   ],
   "source": [
    "data.columns"
   ]
  },
  {
   "cell_type": "code",
   "execution_count": 9,
   "id": "3c068b47",
   "metadata": {},
   "outputs": [
    {
     "data": {
      "text/plain": [
       "Company             0\n",
       "Location            0\n",
       "Year                0\n",
       "Time              125\n",
       "Rocket              0\n",
       "MissionStatus       0\n",
       "RocketStatus        0\n",
       "Price            3362\n",
       "Mission             0\n",
       "dtype: int64"
      ]
     },
     "execution_count": 9,
     "metadata": {},
     "output_type": "execute_result"
    }
   ],
   "source": [
    "data.isnull().sum()\n",
    "# cheaking the null values"
   ]
  },
  {
   "cell_type": "markdown",
   "id": "d7da3c79",
   "metadata": {},
   "source": [
    " Am cheaking the any null values in my column.\n",
    " \n",
    " there in my data:\n",
    " \n",
    " 'Time' column has 125 missing values.\n",
    "\n",
    "'Price' column has 3362 missing values"
   ]
  },
  {
   "cell_type": "code",
   "execution_count": 10,
   "id": "a53671fe",
   "metadata": {},
   "outputs": [
    {
     "data": {
      "image/png": "[encoded data removed]",
      "text/plain": [
       "<Figure size 640x480 with 1 Axes>"
      ]
     },
     "metadata": {},
     "output_type": "display_data"
    }
   ],
   "source": [
    "\n",
    "\n",
    "\n",
    "\n",
    "# Create a bar plot\n",
    "sns.set(style=\"whitegrid\")  # Set a style for the plot\n",
    "sns.barplot(x=data.columns, y=data.isnull().sum(),palette=\"Set1\")\n",
    "\n",
    "# Add labels and a title\n",
    "plt.xlabel(\"Column_names\")\n",
    "plt.ylabel(\"Null_Values\")\n",
    "plt.title(\"Bar Plot For Null_values\")\n",
    "plt.xticks(rotation=45)\n",
    "\n",
    "# Show the plot\n",
    "plt.show()\n"
   ]
  },
  {
   "cell_type": "markdown",
   "id": "c987e322",
   "metadata": {},
   "source": [
    " Am using barplot to  visualize the null values.\n",
    " \n",
    " 'Time' column has 125 missing values.\n",
    "\n",
    "'Price' column has 3362 missing values"
   ]
  },
  {
   "cell_type": "code",
   "execution_count": 11,
   "id": "5f0c9669",
   "metadata": {},
   "outputs": [
    {
     "data": {
      "text/html": [
       "<div>\n",
       "<style scoped>\n",
       "    .dataframe tbody tr th:only-of-type {\n",
       "        vertical-align: middle;\n",
       "    }\n",
       "\n",
       "    .dataframe tbody tr th {\n",
       "        vertical-align: top;\n",
       "    }\n",
       "\n",
       "    .dataframe thead th {\n",
       "        text-align: right;\n",
       "    }\n",
       "</style>\n",
       "<table border=\"1\" class=\"dataframe\">\n",
       "  <thead>\n",
       "    <tr style=\"text-align: right;\">\n",
       "      <th></th>\n",
       "      <th>Company</th>\n",
       "      <th>Location</th>\n",
       "      <th>Year</th>\n",
       "      <th>Rocket</th>\n",
       "      <th>MissionStatus</th>\n",
       "      <th>RocketStatus</th>\n",
       "      <th>Mission</th>\n",
       "    </tr>\n",
       "  </thead>\n",
       "  <tbody>\n",
       "    <tr>\n",
       "      <th>0</th>\n",
       "      <td>AEB</td>\n",
       "      <td>VLS Pad, Alcântara Launch Center, Maranhão, Br...</td>\n",
       "      <td>1997</td>\n",
       "      <td>VLS-1</td>\n",
       "      <td>0</td>\n",
       "      <td>Retired</td>\n",
       "      <td>SCD-2A</td>\n",
       "    </tr>\n",
       "    <tr>\n",
       "      <th>1</th>\n",
       "      <td>AEB</td>\n",
       "      <td>VLS Pad, Alcântara Launch Center, Maranhão, Br...</td>\n",
       "      <td>1999</td>\n",
       "      <td>VLS-1</td>\n",
       "      <td>0</td>\n",
       "      <td>Retired</td>\n",
       "      <td>SACI-2</td>\n",
       "    </tr>\n",
       "    <tr>\n",
       "      <th>2</th>\n",
       "      <td>AEB</td>\n",
       "      <td>VLS Pad, Alcântara Launch Center, Maranhão, Br...</td>\n",
       "      <td>2003</td>\n",
       "      <td>VLS-1</td>\n",
       "      <td>0</td>\n",
       "      <td>Retired</td>\n",
       "      <td>SATEC, UNOSAT</td>\n",
       "    </tr>\n",
       "    <tr>\n",
       "      <th>3</th>\n",
       "      <td>AMBA</td>\n",
       "      <td>LA-5B, RAAF Woomera Range Complex, Australia</td>\n",
       "      <td>1967</td>\n",
       "      <td>Redstone Sparta</td>\n",
       "      <td>1</td>\n",
       "      <td>Retired</td>\n",
       "      <td>WRESAT</td>\n",
       "    </tr>\n",
       "    <tr>\n",
       "      <th>4</th>\n",
       "      <td>AMBA</td>\n",
       "      <td>LC-26A, Cape Canaveral AFS, Florida, USA</td>\n",
       "      <td>1958</td>\n",
       "      <td>Juno I</td>\n",
       "      <td>1</td>\n",
       "      <td>Retired</td>\n",
       "      <td>Explorer 1</td>\n",
       "    </tr>\n",
       "    <tr>\n",
       "      <th>...</th>\n",
       "      <td>...</td>\n",
       "      <td>...</td>\n",
       "      <td>...</td>\n",
       "      <td>...</td>\n",
       "      <td>...</td>\n",
       "      <td>...</td>\n",
       "      <td>...</td>\n",
       "    </tr>\n",
       "    <tr>\n",
       "      <th>4621</th>\n",
       "      <td>VKS RF</td>\n",
       "      <td>Site 90/20, Baikonur Cosmodrome, Kazakhstan</td>\n",
       "      <td>2001</td>\n",
       "      <td>Tsyklon-2</td>\n",
       "      <td>1</td>\n",
       "      <td>Retired</td>\n",
       "      <td>Cosmos 2383</td>\n",
       "    </tr>\n",
       "    <tr>\n",
       "      <th>4622</th>\n",
       "      <td>VKS RF</td>\n",
       "      <td>Site 90/20, Baikonur Cosmodrome, Kazakhstan</td>\n",
       "      <td>2004</td>\n",
       "      <td>Tsyklon-2</td>\n",
       "      <td>1</td>\n",
       "      <td>Retired</td>\n",
       "      <td>Cosmos 2405</td>\n",
       "    </tr>\n",
       "    <tr>\n",
       "      <th>4623</th>\n",
       "      <td>VKS RF</td>\n",
       "      <td>Site 90/20, Baikonur Cosmodrome, Kazakhstan</td>\n",
       "      <td>2006</td>\n",
       "      <td>Tsyklon-2</td>\n",
       "      <td>1</td>\n",
       "      <td>Retired</td>\n",
       "      <td>Cosmos 2421</td>\n",
       "    </tr>\n",
       "    <tr>\n",
       "      <th>4624</th>\n",
       "      <td>Yuzhmash</td>\n",
       "      <td>Site 32/2, Plesetsk Cosmodrome, Russia</td>\n",
       "      <td>1991</td>\n",
       "      <td>Tsyklon-3</td>\n",
       "      <td>1</td>\n",
       "      <td>Retired</td>\n",
       "      <td>Intercosmos 25 &amp; Magion 3</td>\n",
       "    </tr>\n",
       "    <tr>\n",
       "      <th>4625</th>\n",
       "      <td>Yuzhmash</td>\n",
       "      <td>Site 90/20, Baikonur Cosmodrome, Kazakhstan</td>\n",
       "      <td>1969</td>\n",
       "      <td>Tsyklon-2</td>\n",
       "      <td>1</td>\n",
       "      <td>Retired</td>\n",
       "      <td>IS Mass Model</td>\n",
       "    </tr>\n",
       "  </tbody>\n",
       "</table>\n",
       "<p>4626 rows × 7 columns</p>\n",
       "</div>"
      ],
      "text/plain": [
       "       Company                                           Location  Year  \\\n",
       "0          AEB  VLS Pad, Alcântara Launch Center, Maranhão, Br...  1997   \n",
       "1          AEB  VLS Pad, Alcântara Launch Center, Maranhão, Br...  1999   \n",
       "2          AEB  VLS Pad, Alcântara Launch Center, Maranhão, Br...  2003   \n",
       "3         AMBA       LA-5B, RAAF Woomera Range Complex, Australia  1967   \n",
       "4         AMBA           LC-26A, Cape Canaveral AFS, Florida, USA  1958   \n",
       "...        ...                                                ...   ...   \n",
       "4621    VKS RF        Site 90/20, Baikonur Cosmodrome, Kazakhstan  2001   \n",
       "4622    VKS RF        Site 90/20, Baikonur Cosmodrome, Kazakhstan  2004   \n",
       "4623    VKS RF        Site 90/20, Baikonur Cosmodrome, Kazakhstan  2006   \n",
       "4624  Yuzhmash             Site 32/2, Plesetsk Cosmodrome, Russia  1991   \n",
       "4625  Yuzhmash        Site 90/20, Baikonur Cosmodrome, Kazakhstan  1969   \n",
       "\n",
       "               Rocket  MissionStatus RocketStatus                    Mission  \n",
       "0               VLS-1              0      Retired                     SCD-2A  \n",
       "1               VLS-1              0      Retired                     SACI-2  \n",
       "2               VLS-1              0      Retired              SATEC, UNOSAT  \n",
       "3     Redstone Sparta              1      Retired                     WRESAT  \n",
       "4              Juno I              1      Retired                 Explorer 1  \n",
       "...               ...            ...          ...                        ...  \n",
       "4621        Tsyklon-2              1      Retired                Cosmos 2383  \n",
       "4622        Tsyklon-2              1      Retired                Cosmos 2405  \n",
       "4623        Tsyklon-2              1      Retired                Cosmos 2421  \n",
       "4624        Tsyklon-3              1      Retired  Intercosmos 25 & Magion 3  \n",
       "4625        Tsyklon-2              1      Retired              IS Mass Model  \n",
       "\n",
       "[4626 rows x 7 columns]"
      ]
     },
     "execution_count": 11,
     "metadata": {},
     "output_type": "execute_result"
    }
   ],
   "source": [
    "data=data.drop(columns=['Time','Price'])\n",
    "data\n",
    "# deleting the unwanted column"
   ]
  },
  {
   "cell_type": "markdown",
   "id": "5e31601c",
   "metadata": {},
   "source": [
    " Here am droping the unwanted column.\n",
    " The time and price column shouled be unwanted for me.\n",
    " Because there are so many  null values.\n",
    " Because my data is a rocket launching data. in the rocket launchig means we need a accuracy time and price.\n",
    " That only god for the analysis. so i remove that two column\n",
    " \n",
    "  "
   ]
  },
  {
   "cell_type": "code",
   "execution_count": 12,
   "id": "d4f3f1e4",
   "metadata": {},
   "outputs": [
    {
     "data": {
      "text/plain": [
       "Company          0\n",
       "Location         0\n",
       "Year             0\n",
       "Rocket           0\n",
       "MissionStatus    0\n",
       "RocketStatus     0\n",
       "Mission          0\n",
       "dtype: int64"
      ]
     },
     "execution_count": 12,
     "metadata": {},
     "output_type": "execute_result"
    }
   ],
   "source": [
    "data.isnull().sum()\n",
    "# cheaking the null values"
   ]
  },
  {
   "cell_type": "markdown",
   "id": "8b563ef7",
   "metadata": {},
   "source": [
    "Now am cheaking any null values is there or not."
   ]
  },
  {
   "cell_type": "code",
   "execution_count": 13,
   "id": "cea7a4d5",
   "metadata": {},
   "outputs": [
    {
     "data": {
      "text/html": [
       "<div>\n",
       "<style scoped>\n",
       "    .dataframe tbody tr th:only-of-type {\n",
       "        vertical-align: middle;\n",
       "    }\n",
       "\n",
       "    .dataframe tbody tr th {\n",
       "        vertical-align: top;\n",
       "    }\n",
       "\n",
       "    .dataframe thead th {\n",
       "        text-align: right;\n",
       "    }\n",
       "</style>\n",
       "<table border=\"1\" class=\"dataframe\">\n",
       "  <thead>\n",
       "    <tr style=\"text-align: right;\">\n",
       "      <th></th>\n",
       "      <th>Company</th>\n",
       "      <th>Location</th>\n",
       "      <th>Year</th>\n",
       "      <th>Rocket</th>\n",
       "      <th>MissionStatus</th>\n",
       "      <th>RocketStatus</th>\n",
       "      <th>Mission</th>\n",
       "    </tr>\n",
       "  </thead>\n",
       "  <tbody>\n",
       "    <tr>\n",
       "      <th>1525</th>\n",
       "      <td>Martin Marietta</td>\n",
       "      <td>SLC-4E, Vandenberg AFB, California, USA</td>\n",
       "      <td>1973</td>\n",
       "      <td>Titan IIID</td>\n",
       "      <td>1</td>\n",
       "      <td>Retired</td>\n",
       "      <td>KH-9</td>\n",
       "    </tr>\n",
       "    <tr>\n",
       "      <th>4054</th>\n",
       "      <td>SpaceX</td>\n",
       "      <td>Suborbital Pad B, Starbase, Texas, USA</td>\n",
       "      <td>2021</td>\n",
       "      <td>Starship Prototype</td>\n",
       "      <td>0</td>\n",
       "      <td>Active</td>\n",
       "      <td>10-Kilometer Test Flight</td>\n",
       "    </tr>\n",
       "  </tbody>\n",
       "</table>\n",
       "</div>"
      ],
      "text/plain": [
       "              Company                                 Location  Year  \\\n",
       "1525  Martin Marietta  SLC-4E, Vandenberg AFB, California, USA  1973   \n",
       "4054           SpaceX   Suborbital Pad B, Starbase, Texas, USA  2021   \n",
       "\n",
       "                  Rocket  MissionStatus RocketStatus                   Mission  \n",
       "1525          Titan IIID              1      Retired                      KH-9  \n",
       "4054  Starship Prototype              0       Active  10-Kilometer Test Flight  "
      ]
     },
     "execution_count": 13,
     "metadata": {},
     "output_type": "execute_result"
    }
   ],
   "source": [
    "data[data.duplicated()]\n",
    "# cheaking the duplicated"
   ]
  },
  {
   "cell_type": "markdown",
   "id": "20f39100",
   "metadata": {},
   "source": [
    "cheaking any duplicate values in my data.\n",
    "There are two duplicate values in my data\n",
    "the index number:1525,4054 should be repeated in my data"
   ]
  },
  {
   "cell_type": "code",
   "execution_count": 14,
   "id": "7086bb1b",
   "metadata": {},
   "outputs": [
    {
     "data": {
      "text/html": [
       "<div>\n",
       "<style scoped>\n",
       "    .dataframe tbody tr th:only-of-type {\n",
       "        vertical-align: middle;\n",
       "    }\n",
       "\n",
       "    .dataframe tbody tr th {\n",
       "        vertical-align: top;\n",
       "    }\n",
       "\n",
       "    .dataframe thead th {\n",
       "        text-align: right;\n",
       "    }\n",
       "</style>\n",
       "<table border=\"1\" class=\"dataframe\">\n",
       "  <thead>\n",
       "    <tr style=\"text-align: right;\">\n",
       "      <th></th>\n",
       "      <th>Company</th>\n",
       "      <th>Location</th>\n",
       "      <th>Year</th>\n",
       "      <th>Rocket</th>\n",
       "      <th>MissionStatus</th>\n",
       "      <th>RocketStatus</th>\n",
       "      <th>Mission</th>\n",
       "    </tr>\n",
       "  </thead>\n",
       "  <tbody>\n",
       "    <tr>\n",
       "      <th>0</th>\n",
       "      <td>AEB</td>\n",
       "      <td>VLS Pad, Alcântara Launch Center, Maranhão, Br...</td>\n",
       "      <td>1997</td>\n",
       "      <td>VLS-1</td>\n",
       "      <td>0</td>\n",
       "      <td>Retired</td>\n",
       "      <td>SCD-2A</td>\n",
       "    </tr>\n",
       "    <tr>\n",
       "      <th>1</th>\n",
       "      <td>AEB</td>\n",
       "      <td>VLS Pad, Alcântara Launch Center, Maranhão, Br...</td>\n",
       "      <td>1999</td>\n",
       "      <td>VLS-1</td>\n",
       "      <td>0</td>\n",
       "      <td>Retired</td>\n",
       "      <td>SACI-2</td>\n",
       "    </tr>\n",
       "    <tr>\n",
       "      <th>2</th>\n",
       "      <td>AEB</td>\n",
       "      <td>VLS Pad, Alcântara Launch Center, Maranhão, Br...</td>\n",
       "      <td>2003</td>\n",
       "      <td>VLS-1</td>\n",
       "      <td>0</td>\n",
       "      <td>Retired</td>\n",
       "      <td>SATEC, UNOSAT</td>\n",
       "    </tr>\n",
       "    <tr>\n",
       "      <th>3</th>\n",
       "      <td>AMBA</td>\n",
       "      <td>LA-5B, RAAF Woomera Range Complex, Australia</td>\n",
       "      <td>1967</td>\n",
       "      <td>Redstone Sparta</td>\n",
       "      <td>1</td>\n",
       "      <td>Retired</td>\n",
       "      <td>WRESAT</td>\n",
       "    </tr>\n",
       "    <tr>\n",
       "      <th>4</th>\n",
       "      <td>AMBA</td>\n",
       "      <td>LC-26A, Cape Canaveral AFS, Florida, USA</td>\n",
       "      <td>1958</td>\n",
       "      <td>Juno I</td>\n",
       "      <td>1</td>\n",
       "      <td>Retired</td>\n",
       "      <td>Explorer 1</td>\n",
       "    </tr>\n",
       "    <tr>\n",
       "      <th>...</th>\n",
       "      <td>...</td>\n",
       "      <td>...</td>\n",
       "      <td>...</td>\n",
       "      <td>...</td>\n",
       "      <td>...</td>\n",
       "      <td>...</td>\n",
       "      <td>...</td>\n",
       "    </tr>\n",
       "    <tr>\n",
       "      <th>4621</th>\n",
       "      <td>VKS RF</td>\n",
       "      <td>Site 90/20, Baikonur Cosmodrome, Kazakhstan</td>\n",
       "      <td>2001</td>\n",
       "      <td>Tsyklon-2</td>\n",
       "      <td>1</td>\n",
       "      <td>Retired</td>\n",
       "      <td>Cosmos 2383</td>\n",
       "    </tr>\n",
       "    <tr>\n",
       "      <th>4622</th>\n",
       "      <td>VKS RF</td>\n",
       "      <td>Site 90/20, Baikonur Cosmodrome, Kazakhstan</td>\n",
       "      <td>2004</td>\n",
       "      <td>Tsyklon-2</td>\n",
       "      <td>1</td>\n",
       "      <td>Retired</td>\n",
       "      <td>Cosmos 2405</td>\n",
       "    </tr>\n",
       "    <tr>\n",
       "      <th>4623</th>\n",
       "      <td>VKS RF</td>\n",
       "      <td>Site 90/20, Baikonur Cosmodrome, Kazakhstan</td>\n",
       "      <td>2006</td>\n",
       "      <td>Tsyklon-2</td>\n",
       "      <td>1</td>\n",
       "      <td>Retired</td>\n",
       "      <td>Cosmos 2421</td>\n",
       "    </tr>\n",
       "    <tr>\n",
       "      <th>4624</th>\n",
       "      <td>Yuzhmash</td>\n",
       "      <td>Site 32/2, Plesetsk Cosmodrome, Russia</td>\n",
       "      <td>1991</td>\n",
       "      <td>Tsyklon-3</td>\n",
       "      <td>1</td>\n",
       "      <td>Retired</td>\n",
       "      <td>Intercosmos 25 &amp; Magion 3</td>\n",
       "    </tr>\n",
       "    <tr>\n",
       "      <th>4625</th>\n",
       "      <td>Yuzhmash</td>\n",
       "      <td>Site 90/20, Baikonur Cosmodrome, Kazakhstan</td>\n",
       "      <td>1969</td>\n",
       "      <td>Tsyklon-2</td>\n",
       "      <td>1</td>\n",
       "      <td>Retired</td>\n",
       "      <td>IS Mass Model</td>\n",
       "    </tr>\n",
       "  </tbody>\n",
       "</table>\n",
       "<p>4624 rows × 7 columns</p>\n",
       "</div>"
      ],
      "text/plain": [
       "       Company                                           Location  Year  \\\n",
       "0          AEB  VLS Pad, Alcântara Launch Center, Maranhão, Br...  1997   \n",
       "1          AEB  VLS Pad, Alcântara Launch Center, Maranhão, Br...  1999   \n",
       "2          AEB  VLS Pad, Alcântara Launch Center, Maranhão, Br...  2003   \n",
       "3         AMBA       LA-5B, RAAF Woomera Range Complex, Australia  1967   \n",
       "4         AMBA           LC-26A, Cape Canaveral AFS, Florida, USA  1958   \n",
       "...        ...                                                ...   ...   \n",
       "4621    VKS RF        Site 90/20, Baikonur Cosmodrome, Kazakhstan  2001   \n",
       "4622    VKS RF        Site 90/20, Baikonur Cosmodrome, Kazakhstan  2004   \n",
       "4623    VKS RF        Site 90/20, Baikonur Cosmodrome, Kazakhstan  2006   \n",
       "4624  Yuzhmash             Site 32/2, Plesetsk Cosmodrome, Russia  1991   \n",
       "4625  Yuzhmash        Site 90/20, Baikonur Cosmodrome, Kazakhstan  1969   \n",
       "\n",
       "               Rocket  MissionStatus RocketStatus                    Mission  \n",
       "0               VLS-1              0      Retired                     SCD-2A  \n",
       "1               VLS-1              0      Retired                     SACI-2  \n",
       "2               VLS-1              0      Retired              SATEC, UNOSAT  \n",
       "3     Redstone Sparta              1      Retired                     WRESAT  \n",
       "4              Juno I              1      Retired                 Explorer 1  \n",
       "...               ...            ...          ...                        ...  \n",
       "4621        Tsyklon-2              1      Retired                Cosmos 2383  \n",
       "4622        Tsyklon-2              1      Retired                Cosmos 2405  \n",
       "4623        Tsyklon-2              1      Retired                Cosmos 2421  \n",
       "4624        Tsyklon-3              1      Retired  Intercosmos 25 & Magion 3  \n",
       "4625        Tsyklon-2              1      Retired              IS Mass Model  \n",
       "\n",
       "[4624 rows x 7 columns]"
      ]
     },
     "execution_count": 14,
     "metadata": {},
     "output_type": "execute_result"
    }
   ],
   "source": [
    "data=data.drop_duplicates()\n",
    "data\n",
    "# deleting the duplicates"
   ]
  },
  {
   "cell_type": "markdown",
   "id": "e5493092",
   "metadata": {},
   "source": [
    " Now am drop that duplicate values"
   ]
  },
  {
   "cell_type": "code",
   "execution_count": 15,
   "id": "90584251",
   "metadata": {},
   "outputs": [],
   "source": [
    "data=data.reset_index()\n",
    "# reset the indexing"
   ]
  },
  {
   "cell_type": "markdown",
   "id": "fcc4de2c",
   "metadata": {},
   "source": [
    " Finally am reset the index"
   ]
  },
  {
   "cell_type": "code",
   "execution_count": 16,
   "id": "3f673475",
   "metadata": {},
   "outputs": [],
   "source": [
    "del data['index']\n",
    "# deleing the unwanted column"
   ]
  },
  {
   "cell_type": "code",
   "execution_count": 17,
   "id": "cd9b60e5",
   "metadata": {},
   "outputs": [
    {
     "data": {
      "text/html": [
       "<div>\n",
       "<style scoped>\n",
       "    .dataframe tbody tr th:only-of-type {\n",
       "        vertical-align: middle;\n",
       "    }\n",
       "\n",
       "    .dataframe tbody tr th {\n",
       "        vertical-align: top;\n",
       "    }\n",
       "\n",
       "    .dataframe thead th {\n",
       "        text-align: right;\n",
       "    }\n",
       "</style>\n",
       "<table border=\"1\" class=\"dataframe\">\n",
       "  <thead>\n",
       "    <tr style=\"text-align: right;\">\n",
       "      <th></th>\n",
       "      <th>Company</th>\n",
       "      <th>Location</th>\n",
       "      <th>Year</th>\n",
       "      <th>Rocket</th>\n",
       "      <th>MissionStatus</th>\n",
       "      <th>RocketStatus</th>\n",
       "      <th>Mission</th>\n",
       "    </tr>\n",
       "  </thead>\n",
       "  <tbody>\n",
       "    <tr>\n",
       "      <th>0</th>\n",
       "      <td>AEB</td>\n",
       "      <td>VLS Pad, Alcântara Launch Center, Maranhão, Br...</td>\n",
       "      <td>1997</td>\n",
       "      <td>VLS-1</td>\n",
       "      <td>0</td>\n",
       "      <td>Retired</td>\n",
       "      <td>SCD-2A</td>\n",
       "    </tr>\n",
       "    <tr>\n",
       "      <th>1</th>\n",
       "      <td>AEB</td>\n",
       "      <td>VLS Pad, Alcântara Launch Center, Maranhão, Br...</td>\n",
       "      <td>1999</td>\n",
       "      <td>VLS-1</td>\n",
       "      <td>0</td>\n",
       "      <td>Retired</td>\n",
       "      <td>SACI-2</td>\n",
       "    </tr>\n",
       "    <tr>\n",
       "      <th>2</th>\n",
       "      <td>AEB</td>\n",
       "      <td>VLS Pad, Alcântara Launch Center, Maranhão, Br...</td>\n",
       "      <td>2003</td>\n",
       "      <td>VLS-1</td>\n",
       "      <td>0</td>\n",
       "      <td>Retired</td>\n",
       "      <td>SATEC, UNOSAT</td>\n",
       "    </tr>\n",
       "    <tr>\n",
       "      <th>3</th>\n",
       "      <td>AMBA</td>\n",
       "      <td>LA-5B, RAAF Woomera Range Complex, Australia</td>\n",
       "      <td>1967</td>\n",
       "      <td>Redstone Sparta</td>\n",
       "      <td>1</td>\n",
       "      <td>Retired</td>\n",
       "      <td>WRESAT</td>\n",
       "    </tr>\n",
       "    <tr>\n",
       "      <th>4</th>\n",
       "      <td>AMBA</td>\n",
       "      <td>LC-26A, Cape Canaveral AFS, Florida, USA</td>\n",
       "      <td>1958</td>\n",
       "      <td>Juno I</td>\n",
       "      <td>1</td>\n",
       "      <td>Retired</td>\n",
       "      <td>Explorer 1</td>\n",
       "    </tr>\n",
       "    <tr>\n",
       "      <th>...</th>\n",
       "      <td>...</td>\n",
       "      <td>...</td>\n",
       "      <td>...</td>\n",
       "      <td>...</td>\n",
       "      <td>...</td>\n",
       "      <td>...</td>\n",
       "      <td>...</td>\n",
       "    </tr>\n",
       "    <tr>\n",
       "      <th>4619</th>\n",
       "      <td>VKS RF</td>\n",
       "      <td>Site 90/20, Baikonur Cosmodrome, Kazakhstan</td>\n",
       "      <td>2001</td>\n",
       "      <td>Tsyklon-2</td>\n",
       "      <td>1</td>\n",
       "      <td>Retired</td>\n",
       "      <td>Cosmos 2383</td>\n",
       "    </tr>\n",
       "    <tr>\n",
       "      <th>4620</th>\n",
       "      <td>VKS RF</td>\n",
       "      <td>Site 90/20, Baikonur Cosmodrome, Kazakhstan</td>\n",
       "      <td>2004</td>\n",
       "      <td>Tsyklon-2</td>\n",
       "      <td>1</td>\n",
       "      <td>Retired</td>\n",
       "      <td>Cosmos 2405</td>\n",
       "    </tr>\n",
       "    <tr>\n",
       "      <th>4621</th>\n",
       "      <td>VKS RF</td>\n",
       "      <td>Site 90/20, Baikonur Cosmodrome, Kazakhstan</td>\n",
       "      <td>2006</td>\n",
       "      <td>Tsyklon-2</td>\n",
       "      <td>1</td>\n",
       "      <td>Retired</td>\n",
       "      <td>Cosmos 2421</td>\n",
       "    </tr>\n",
       "    <tr>\n",
       "      <th>4622</th>\n",
       "      <td>Yuzhmash</td>\n",
       "      <td>Site 32/2, Plesetsk Cosmodrome, Russia</td>\n",
       "      <td>1991</td>\n",
       "      <td>Tsyklon-3</td>\n",
       "      <td>1</td>\n",
       "      <td>Retired</td>\n",
       "      <td>Intercosmos 25 &amp; Magion 3</td>\n",
       "    </tr>\n",
       "    <tr>\n",
       "      <th>4623</th>\n",
       "      <td>Yuzhmash</td>\n",
       "      <td>Site 90/20, Baikonur Cosmodrome, Kazakhstan</td>\n",
       "      <td>1969</td>\n",
       "      <td>Tsyklon-2</td>\n",
       "      <td>1</td>\n",
       "      <td>Retired</td>\n",
       "      <td>IS Mass Model</td>\n",
       "    </tr>\n",
       "  </tbody>\n",
       "</table>\n",
       "<p>4624 rows × 7 columns</p>\n",
       "</div>"
      ],
      "text/plain": [
       "       Company                                           Location  Year  \\\n",
       "0          AEB  VLS Pad, Alcântara Launch Center, Maranhão, Br...  1997   \n",
       "1          AEB  VLS Pad, Alcântara Launch Center, Maranhão, Br...  1999   \n",
       "2          AEB  VLS Pad, Alcântara Launch Center, Maranhão, Br...  2003   \n",
       "3         AMBA       LA-5B, RAAF Woomera Range Complex, Australia  1967   \n",
       "4         AMBA           LC-26A, Cape Canaveral AFS, Florida, USA  1958   \n",
       "...        ...                                                ...   ...   \n",
       "4619    VKS RF        Site 90/20, Baikonur Cosmodrome, Kazakhstan  2001   \n",
       "4620    VKS RF        Site 90/20, Baikonur Cosmodrome, Kazakhstan  2004   \n",
       "4621    VKS RF        Site 90/20, Baikonur Cosmodrome, Kazakhstan  2006   \n",
       "4622  Yuzhmash             Site 32/2, Plesetsk Cosmodrome, Russia  1991   \n",
       "4623  Yuzhmash        Site 90/20, Baikonur Cosmodrome, Kazakhstan  1969   \n",
       "\n",
       "               Rocket  MissionStatus RocketStatus                    Mission  \n",
       "0               VLS-1              0      Retired                     SCD-2A  \n",
       "1               VLS-1              0      Retired                     SACI-2  \n",
       "2               VLS-1              0      Retired              SATEC, UNOSAT  \n",
       "3     Redstone Sparta              1      Retired                     WRESAT  \n",
       "4              Juno I              1      Retired                 Explorer 1  \n",
       "...               ...            ...          ...                        ...  \n",
       "4619        Tsyklon-2              1      Retired                Cosmos 2383  \n",
       "4620        Tsyklon-2              1      Retired                Cosmos 2405  \n",
       "4621        Tsyklon-2              1      Retired                Cosmos 2421  \n",
       "4622        Tsyklon-3              1      Retired  Intercosmos 25 & Magion 3  \n",
       "4623        Tsyklon-2              1      Retired              IS Mass Model  \n",
       "\n",
       "[4624 rows x 7 columns]"
      ]
     },
     "execution_count": 17,
     "metadata": {},
     "output_type": "execute_result"
    }
   ],
   "source": [
    "data"
   ]
  },
  {
   "cell_type": "code",
   "execution_count": 18,
   "id": "01e8af6f",
   "metadata": {},
   "outputs": [
    {
     "data": {
      "text/plain": [
       "Company          object\n",
       "Location         object\n",
       "Year              int64\n",
       "Rocket           object\n",
       "MissionStatus     int64\n",
       "RocketStatus     object\n",
       "Mission          object\n",
       "dtype: object"
      ]
     },
     "execution_count": 18,
     "metadata": {},
     "output_type": "execute_result"
    }
   ],
   "source": [
    "data.dtypes"
   ]
  },
  {
   "cell_type": "code",
   "execution_count": 19,
   "id": "717a4cbb",
   "metadata": {},
   "outputs": [],
   "source": [
    "data['Company']=data['Company'].astype(\"category\")\n",
    "data['Location']=data['Location'].astype(\"category\")\n",
    "data['Rocket']=data['Rocket'].astype(\"category\")\n",
    "data['RocketStatus']=data['RocketStatus'].astype(\"category\")\n",
    "data['Mission']=data['Mission'].astype(\"category\")\n",
    "# changing the datatypes\n"
   ]
  },
  {
   "cell_type": "markdown",
   "id": "33fc9704",
   "metadata": {},
   "source": [
    "am changing  the data types ad object into category.\n",
    "Because the category should be take a less momory location.\n"
   ]
  },
  {
   "cell_type": "markdown",
   "id": "1496830e",
   "metadata": {},
   "source": [
    "# **Data Overview and Basic Statistics:**\n"
   ]
  },
  {
   "cell_type": "markdown",
   "id": "81df287a",
   "metadata": {},
   "source": [
    "# 1 What is the size of the dataset (number of rows and columns)?"
   ]
  },
  {
   "cell_type": "code",
   "execution_count": 20,
   "id": "a1701d99",
   "metadata": {},
   "outputs": [
    {
     "data": {
      "text/plain": [
       "(4624, 7)"
      ]
     },
     "execution_count": 20,
     "metadata": {},
     "output_type": "execute_result"
    }
   ],
   "source": [
    "\n",
    "data.shape"
   ]
  },
  {
   "cell_type": "markdown",
   "id": "d4f8add5",
   "metadata": {},
   "source": [
    "in my data i have the 4624 rows and 7 columns"
   ]
  },
  {
   "cell_type": "markdown",
   "id": "548b7aae",
   "metadata": {},
   "source": [
    "# 2 What are the data types of each column?"
   ]
  },
  {
   "cell_type": "code",
   "execution_count": 21,
   "id": "5effae6d",
   "metadata": {},
   "outputs": [
    {
     "data": {
      "text/plain": [
       "Company          category\n",
       "Location         category\n",
       "Year                int64\n",
       "Rocket           category\n",
       "MissionStatus       int64\n",
       "RocketStatus     category\n",
       "Mission          category\n",
       "dtype: object"
      ]
     },
     "execution_count": 21,
     "metadata": {},
     "output_type": "execute_result"
    }
   ],
   "source": [
    "\n",
    "data.dtypes"
   ]
  },
  {
   "cell_type": "markdown",
   "id": "ef7396c1",
   "metadata": {},
   "source": [
    "There all are my datatypes in each column.\n"
   ]
  },
  {
   "cell_type": "markdown",
   "id": "27dfe2f6",
   "metadata": {},
   "source": [
    "# 3 Are there any missing values in the dataset?"
   ]
  },
  {
   "cell_type": "code",
   "execution_count": 22,
   "id": "b6e31ec3",
   "metadata": {},
   "outputs": [
    {
     "data": {
      "text/plain": [
       "Company          0\n",
       "Location         0\n",
       "Year             0\n",
       "Rocket           0\n",
       "MissionStatus    0\n",
       "RocketStatus     0\n",
       "Mission          0\n",
       "dtype: int64"
      ]
     },
     "execution_count": 22,
     "metadata": {},
     "output_type": "execute_result"
    }
   ],
   "source": [
    "\n",
    "data.isnull().sum()"
   ]
  },
  {
   "cell_type": "markdown",
   "id": "3c751f1f",
   "metadata": {},
   "source": [
    "After the cleaning process there is nothing any null values."
   ]
  },
  {
   "cell_type": "markdown",
   "id": "bb07a060",
   "metadata": {},
   "source": [
    "# 4 What is the range of launch years in the dataset?"
   ]
  },
  {
   "cell_type": "code",
   "execution_count": 23,
   "id": "822d323a",
   "metadata": {},
   "outputs": [
    {
     "name": "stdout",
     "output_type": "stream",
     "text": [
      "1957-2022 is the range of launch years in the dataset\n"
     ]
    }
   ],
   "source": [
    "#. \n",
    "x=data['Year'].max()\n",
    "y=data['Year'].min()\n",
    "print(f'{y}-{x} is the range of launch years in the dataset')"
   ]
  },
  {
   "cell_type": "markdown",
   "id": "b8bf3fe4",
   "metadata": {},
   "source": [
    "interprate:\n",
    " the range of launch years in the dataset is from 1957 to 2022. This means that the dataset contains rocket launch records spanning from the earliest year in 1957 to the latest year in 2022."
   ]
  },
  {
   "cell_type": "markdown",
   "id": "118e4c51",
   "metadata": {},
   "source": [
    "# 5 How many unique companies have conducted rocket launches? "
   ]
  },
  {
   "cell_type": "code",
   "execution_count": 24,
   "id": "e57f49c3",
   "metadata": {},
   "outputs": [
    {
     "name": "stdout",
     "output_type": "stream",
     "text": [
      "['AEB', 'AMBA', 'Arianespace', \"Armée de l'Air\", 'ASI', 'Astra', 'Blue Origin', 'Boeing', 'CAS Space', 'CASC', 'CASIC', 'CECLES', 'CNES', 'Douglas', 'EER', 'ESA', 'Eurockot', 'Exos', 'ExPace', 'Firefly', 'Galactic Energy', 'General Dynamics', 'GK LS', 'IAI', 'ILS', 'IRGC', 'ISA', 'ISAS', 'i-Space', 'ISRO', 'JAXA', 'KARI', 'KCST', 'Khrunichev', 'Kosmotras', 'Land Launch', 'Landspace', 'Lockheed', 'Martin Marietta', 'MHI', 'MITT', 'NASA', 'Northrop', 'OKB-586', 'OneSpace', 'RAE', 'Rocket Lab', 'Roscosmos', 'RVSN USSR', 'Sandia', 'Sea Launch', 'SpaceX', 'SRC', 'Starsem', 'ULA', 'US Air Force', 'US Navy', 'UT', 'Virgin Galactic', 'Virgin Orbit', 'VKS RF', 'Yuzhmash']\n",
      "62 unique companies have conducted rocket launches\n"
     ]
    }
   ],
   "source": [
    "\n",
    "unique_company=pd.unique(data['Company'])\n",
    "print(list(unique_company))\n",
    "print(f'{len(unique_company)} unique companies have conducted rocket launches')"
   ]
  },
  {
   "cell_type": "markdown",
   "id": "1abc39d8",
   "metadata": {},
   "source": [
    " there are the 62 unique companies should be contact the rocket launching"
   ]
  },
  {
   "cell_type": "markdown",
   "id": "03989b20",
   "metadata": {},
   "source": [
    "# 6 How many unique rocket have conducted rocket launches?"
   ]
  },
  {
   "cell_type": "code",
   "execution_count": 25,
   "id": "ba8c844d",
   "metadata": {},
   "outputs": [
    {
     "name": "stdout",
     "output_type": "stream",
     "text": [
      "['VLS-1', 'Redstone Sparta', 'Juno I', 'Juno II', 'Ariane 3', 'Ariane 2', 'Ariane 44LP', 'Ariane 44L', 'Ariane 40', 'Ariane 42P', 'Ariane 44P', 'Ariane 42L', 'Ariane 5 G', 'Ariane 5 ECA', 'Ariane 5 G+', 'Ariane 5 GS', 'Ariane 5 ES', 'Soyuz ST-A/Fregat', 'Soyuz ST-B/Fregat-MT', 'Soyuz ST-A/Fregat-M', 'Soyuz ST-B/Fregat-M', 'Ariane 1', 'Vega', 'Soyuz 2.1b/Fregat', 'Diamant A', 'Scout B', 'Scout D1', 'Scout B1', 'Scout F1', 'Scout G1', 'Rocket 3', 'New Shepard', 'Delta II 6925', 'Delta II 7925', 'Delta II 6920-10', 'Delta II 7920-10', 'Delta II 7920-8', 'Delta II 7420-10C', 'Delta II 7425', 'Delta II 7920-10C', 'Delta II 7320-10C', 'Delta II 7426', 'Delta II 7326', 'Delta II 7425-10C', 'Delta 4925-8', 'Delta II 6920-8', 'Delta II 6925-8', 'Delta II 7925-10', 'Delta II 7925-8', 'Delta III 8930', 'Delta II 7925H', 'Delta II 7920H', 'Delta II 7925-10L', 'Delta II 7920-10L', 'Delta IV Medium+ (4,2)', 'Delta IV Medium', 'Delta IV Heavy', 'Zhongke-1A', 'Long March 11H', 'Long March 5/YZ-2', 'Long March 5', 'Long March 5B', 'Long March 6', 'Long March 2E', 'Long March 3A', 'Long March 3B', 'Long March 3B/E', 'Long March 3C', 'Long March 3C/YZ-1', 'Long March 3C/E', 'Long March 3B/YZ-1', 'Long March 7/YZ-1A', 'Long March 8', 'Long March 7A', 'Long March 7', 'Long March 8 (Core Only)', 'Long March 3', 'Long March 2C', 'Long March 4C', 'Long March 2D', 'Long March 2C/E', 'Long March 4B', 'Long March 2C/SMA', 'Long March 6A', 'Feng Bao 1', 'Long March 2', 'Long March 1', 'Long March 2F', 'Long March 2F/G', 'Long March 2F/T', 'Long March 2D/YZ-3', 'Long March 2C/YZ-1S', 'Long March 11', 'Jielong-1', 'Long March 4A', 'Kuaizhou 1', 'Kaituozhe 2', 'Kuaizhou 1A', 'Kaituozhe 1', 'Europa 2', 'Europa 1', 'Diamant B', 'Diamant BP4', 'Delta 3920-8', 'Conestoga-1620', 'Vega C', 'Rokot/Briz KM', 'SARGE', 'Kuaizhou 11', 'Firefly Alpha', 'Ceres-1', 'Atlas-D Able', 'Atlas-LV3 Agena-B', 'Atlas-LV3 Agena-D', 'Atlas-SLV3 Agena-D', 'Atlas-SLV3 Agena-B', 'Atlas-SLV3B Agena-D', 'Atlas-SLV3A Agena-D', 'Atlas-LV3 Agena-A', 'Atlas SLV-3', 'Atlas-E/F Burner', 'Atlas-E/F OV1', 'Atlas-D OV1', 'Atlas-LV3C Centaur-A', 'Atlas-LV3C Centaur-B', 'Atlas-LV3C Centaur-C', 'Atlas-LV3C Centaur-D', 'Atlas-SLV3C Centaur-D', 'Atlas-SLV3D Centaur-D1A', 'Atlas-SLV3D Centaur-D1AR', 'Atlas-G Centaur-D1AR', 'Atlas II', 'Atlas I', 'Atlas IIA', 'Atlas IIAS', 'Atlas-SLV3 Burner-2', 'Atlas-E/F SGS-1', 'Atlas-H MSD', 'Atlas-E/F PTS', 'Atlas-E/F Star-17A', 'Atlas-E/F MSD', 'Atlas-E/F Agena D', 'Atlas-E/F Star-37S-ISS', 'Atlas-E/F OIS', 'Atlas-E/F SGS-2', 'Soyuz 2.1a/Fregat-M', 'Shavit', 'Shavit-1', 'Shavit-2', 'Proton-M/Briz-M', 'Proton K/Block DM-3', 'Atlas IIIA', 'Atlas IIIB', 'Atlas V 401', 'Atlas V 521', 'Atlas V 431', 'Atlas V 551', 'Atlas V 411', 'Qased', 'Safir-1', 'Safir-1A', 'Safir-1B', 'Safir-1B+', 'Simorgh', 'Zoljanah', 'Mu-IV S', 'Mu-III C', 'Mu-III H', 'Mu-III S', 'Mu-III S2', 'Mu-V / M-24', 'Mu-V / M-25', 'Hyperbola-1', 'PSLV-G', 'GSLV Mk I', 'PSLV-CA', 'PSLV-XL', 'PSLV-QL', 'PSLV-DL', 'GSLV Mk II', 'GSLV Mk III', 'SLV-3', 'ASLV', 'H-IIA 202', 'Epsilon Demo', 'Epsilon', 'Epsilon PBS', 'SS-520', 'Naro-1', 'KSLV-2', 'Unha-3', 'Taepodong-1', 'Unha-2', 'Angara A5/Briz-M', 'Dnepr', 'Zenit-3 SLB', 'Zenit-3 SLBF', 'ZhuQue-1', 'Athena I', 'Atlas-E/F Altair', 'Titan IV(401)A', 'Titan IV(405)A', 'Titan IV(401)B', 'Titan IV(402)B', 'Titan IV(405)B', 'Athena II', 'Titan IV(404)A', 'Titan IV(403)A', 'Titan IV(404)B', 'Titan IV(403)B', 'Titan II(23)G', 'Titan IIIC', 'Titan III(23)C', 'Titan 34D', 'Commercial Titan III', 'Titan IV(402)A', 'Titan IIIE', 'Titan IIID', 'Titan-III(33)B Agena-D', 'Titan III(34)B Agena-D', 'N-I', 'N-I Star-37E', 'N-II Star-37E', 'H-I (9 SO)', 'N-II', 'H-I UM-129A (9SO)', 'H-I UM-129A (6SO)', 'H-II', 'H-II (2 SSB)', 'H-IIS', 'H-IIA 2024', 'H-IIA 2022', 'H-IIA 204', 'H-IIB', 'Start-1', 'Start', 'Scout X-1', 'Scout X-2', 'Scout X-3', 'Atlas-D Mercury', 'Blue Scout II', 'Titan II GLV', 'Saturn I', 'Saturn IB', 'Saturn V', 'Space Shuttle Columbia', 'Space Shuttle Challenger', 'Space Shuttle Discovery', 'Space Shuttle Atlantis', 'Space Shuttle Endeavour', 'Ares 1-X', 'Mercury-Redstone', 'Thor-DM 18 Able I', 'Scout X-4', 'Antares 110', 'Antares 120', 'Antares 130', 'Antares 230', 'Antares 230+', 'Minotaur I', 'Minotaur V', 'Minotaur IV', 'Pegasus', 'Pegasus/HAPS', 'Minotaur C (Taurus)', 'Pegasus XL', 'Pegasus XL/HAPS', 'Cosmos-3 (11K65)', 'OS-M1', 'Black Arrow', 'Electron', 'Electron/Curie', 'Electron/Photon', 'Soyuz U', 'Soyuz FG', 'Soyuz 2.1a/Volga', 'Soyuz 2.1b/Fregat-M', 'Soyuz 2.1a/Fregat', 'Proton-M', 'Soyuz', 'Soyuz 2.1a', 'Soyuz 2.1b', 'Soyuz 2.1v', 'Zenit-2 FG', 'Proton-M/DM-3', 'Cosmos-2I (63S1)', 'Sputnik 8K71PS', 'Sputnik 8A91', 'Vostok', 'Molniya', 'Vostok-2', 'Poliot', 'Voskhod', 'Molniya-M /Block L', 'Molniya-M /Block VL', 'Molniya-M /Block ML', 'Cosmos-3M (11K65M)', 'N1-L3', 'Energiya/Buran', 'Rokot/Briz K', 'Cosmos-2I (63SM)', 'Molniya-M /Block 2BL', 'Vostok-2M', 'Tsyklon', 'Energiya/Polyus', 'Vostok-2A', 'Molniya-M /Block NVL', 'Soyuz L', 'Molniya-M /Block SO-L', 'Tsyklon-3', 'Soyuz M', 'Cosmos-1 (65S3)', 'Zenit-2', 'Proton K/Block D', 'Proton K', 'Proton K/Block-DM', 'Proton', 'Cosmos-3MRB (65MRB)', 'Tsyklon-2A', 'Tsyklon-2', 'Super Stripy', 'Zenit-3 SL', 'Falcon 9 Block 3', 'Falcon 9 Block 4', 'Falcon 9 Block 5', 'Falcon Heavy', 'Falcon 1', 'Starship Prototype', 'Falcon 9 v1.0', 'Falcon 9 v1.1', \"Shtil'\", 'Volna', 'Soyuz FG/Fregat', 'Delta II 7925-10C', 'Delta II 7920H-10C', 'Delta IV Medium+ (5,4)', 'Atlas V 501', 'Atlas V 541', 'Atlas V 421', 'Atlas V 531', 'Atlas V N22', 'Atlas V 511', 'Delta IV Medium+ (5,2)', 'SM-65B Atlas', 'Thor DM-18 Able-III', 'Thor DM-18 Able-II', 'Thor DM-19 Delta', 'Thor DM-18 Able-IV', 'Thor-DM21 Ablestar', 'Delta B', 'Delta A', 'Thor-DM18 Agena-A', 'Thor DM-21 Agena-B', 'Thor DM-21 Agena-D', 'Titan IIIA', 'Titan IIIB', 'Titan III(23)B', 'Titan III(24)B', 'Scout X-2M', 'Scout X-2B', 'Scout X-3M', 'NOTS-EV-1 Pilot II', 'Vanguard', 'Lambda-IV S', 'SpaceShipTwo', 'LauncherOne', 'Strela', 'Angara 1.2', 'Angara A5/Persey', 'Soyuz 2.1v/Volga']\n",
      "370 unique rocket have conducted rocket launches\n"
     ]
    }
   ],
   "source": [
    "\n",
    "unique_rockets=(data['Rocket']).unique()\n",
    "print(list(unique_rockets))\n",
    "print(f'{len(unique_rockets)} unique rocket have conducted rocket launches' )"
   ]
  },
  {
   "cell_type": "markdown",
   "id": "69fed586",
   "metadata": {},
   "source": [
    " There are the 370 unique rocket should be contected the conducted rocket launches."
   ]
  },
  {
   "cell_type": "markdown",
   "id": "062533dc",
   "metadata": {},
   "source": [
    "# 7 What is the distribution of mission statuses (success/failure)?"
   ]
  },
  {
   "cell_type": "code",
   "execution_count": 26,
   "id": "4556b05e",
   "metadata": {},
   "outputs": [
    {
     "name": "stdout",
     "output_type": "stream",
     "text": [
      "1    4159\n",
      "0     465\n",
      "Name: MissionStatus, dtype: int64\n"
     ]
    },
    {
     "data": {
      "image/png": "[encoded data removed]",
      "text/plain": [
       "<Figure size 800x600 with 1 Axes>"
      ]
     },
     "metadata": {},
     "output_type": "display_data"
    }
   ],
   "source": [
    "# Count the occurrences of each mission status\n",
    "mission_status_counts = data['MissionStatus'].value_counts()\n",
    "print(mission_status_counts)\n",
    "\n",
    "\n",
    "\n",
    "# Create a bar plot to visualize the distribution\n",
    "plt.figure(figsize=(8, 6))\n",
    "bars=plt.bar(mission_status_counts.index,mission_status_counts.values,color=['c','yellow'])\n",
    "plt.title('Distribution of Mission Status',size=20)\n",
    "plt.xlabel('Mission Status')\n",
    "plt.ylabel('Count')\n",
    "legend_labels = ['No_of_Sucess', 'No_of_Failure']\n",
    "plt.legend(bars, legend_labels, title='Colors')\n",
    "plt.xticks(rotation=0)  # To display x-axis labels horizontally\n",
    "plt.show()\n"
   ]
  },
  {
   "cell_type": "markdown",
   "id": "f7228799",
   "metadata": {},
   "source": [
    " In the output ther 4159 should be successive launced and 465 should be failure for launching.\n",
    "  The red color show the no_of_success.\n",
    "  Blue colr shows the no_of_Failure."
   ]
  },
  {
   "cell_type": "markdown",
   "id": "9fb4faf7",
   "metadata": {},
   "source": [
    "# 8 What is the distribution of rocket statuses (active/inactive)?"
   ]
  },
  {
   "cell_type": "code",
   "execution_count": 27,
   "id": "083ee535",
   "metadata": {},
   "outputs": [
    {
     "name": "stdout",
     "output_type": "stream",
     "text": [
      "Retired    3617\n",
      "Active     1007\n",
      "Name: RocketStatus, dtype: int64\n"
     ]
    },
    {
     "data": {
      "image/png": "[encoded data removed]",
      "text/plain": [
       "<Figure size 800x600 with 1 Axes>"
      ]
     },
     "metadata": {},
     "output_type": "display_data"
    }
   ],
   "source": [
    "rocket_statuses_count_values=data['RocketStatus'].value_counts()\n",
    "print(rocket_statuses_count_values)\n",
    "\n",
    "# Create a bar plot to visualize the distribution\n",
    "plt.figure(figsize=(8, 6))\n",
    "bars=plt.bar(rocket_statuses_count_values.index,rocket_statuses_count_values.values,color=['red','Blue'])\n",
    "plt.title('Distribution of Mission Status',size=20)\n",
    "plt.xlabel('Mission Status')\n",
    "plt.ylabel('Count')\n",
    "legend_labels = ['No_of_retired', 'No_of_active']\n",
    "\n",
    "plt.legend(bars, legend_labels, title='Colors')\n",
    "\n",
    "plt.xticks(rotation=0)  # To display x-axis labels horizontally\n",
    "plt.show()\n"
   ]
  },
  {
   "cell_type": "markdown",
   "id": "3d2509dd",
   "metadata": {},
   "source": [
    "In the visualitation there are 3617 rocket should be retired and 1007 has been active \n",
    "the red color shows the no_of_reired\n",
    "Blue color shows the No_of_Active\n"
   ]
  },
  {
   "cell_type": "markdown",
   "id": "f77d4f8c",
   "metadata": {},
   "source": [
    "#  **Yearly Analysis:**"
   ]
  },
  {
   "cell_type": "markdown",
   "id": "90584da6",
   "metadata": {},
   "source": [
    "# 9 How many rocket launches occurred in each year?"
   ]
  },
  {
   "cell_type": "code",
   "execution_count": 28,
   "id": "54167828",
   "metadata": {},
   "outputs": [
    {
     "name": "stdout",
     "output_type": "stream",
     "text": [
      "1957      3\n",
      "1958     28\n",
      "1959     20\n",
      "1960     39\n",
      "1961     52\n",
      "       ... \n",
      "2018    117\n",
      "2019    109\n",
      "2020    119\n",
      "2021    156\n",
      "2022     93\n",
      "Name: Year, Length: 66, dtype: int64\n",
      "The maximum of rocket should launched in : 2021\n"
     ]
    },
    {
     "data": {
      "image/png": "[encoded data removed]",
      "text/plain": [
       "<Figure size 800x600 with 1 Axes>"
      ]
     },
     "metadata": {},
     "output_type": "display_data"
    }
   ],
   "source": [
    "launches_per_year = data['Year'].value_counts().sort_index()\n",
    "print(launches_per_year)\n",
    "print(\"The maximum of rocket should launched in :\",launches_per_year.idxmax())\n",
    "\n",
    "\n",
    "# Create a bar plot to visualize the distribution\n",
    "plt.figure(figsize=(8, 6))\n",
    "bars=plt.bar(launches_per_year.index,launches_per_year.values)\n",
    "plt.title('Distribution of Mission Status',size=20)\n",
    "plt.xlabel('Years')\n",
    "plt.ylabel('Count')\n",
    "legend_labels = ['Count_of_rocket_per_year']\n",
    "\n",
    "plt.legend(bars, legend_labels, title='Colors')\n",
    "\n",
    "plt.xticks(rotation=45)  # To display x-axis labels horizontally\n",
    "plt.show()\n"
   ]
  },
  {
   "cell_type": "markdown",
   "id": "50fc35e3",
   "metadata": {},
   "source": [
    "Here Yearlywise how many rocket should be launched. and index should be arranged in assending order.\n",
    "in 1957 ther would be 3 rocket launched. and so going on...."
   ]
  },
  {
   "cell_type": "markdown",
   "id": "f7339071",
   "metadata": {},
   "source": [
    "# 10 What is the success rate of rocket launches for each year?"
   ]
  },
  {
   "cell_type": "code",
   "execution_count": 29,
   "id": "81035ad8",
   "metadata": {},
   "outputs": [
    {
     "name": "stdout",
     "output_type": "stream",
     "text": [
      "1957    66.666667\n",
      "1958    21.428571\n",
      "1959    40.000000\n",
      "1960    48.717949\n",
      "1961    61.538462\n",
      "          ...    \n",
      "2018    96.581197\n",
      "2019    91.743119\n",
      "2020    89.915966\n",
      "2021    91.666667\n",
      "2022    96.774194\n",
      "Name: Year, Length: 66, dtype: float64\n",
      "The maximum of successive rate is:98.48484848484848\n",
      "The maximum of successive rate in:1983\n",
      "The minimum of successive rate is:21.428571428571427\n",
      "The minimum of successive rate in:1958\n"
     ]
    }
   ],
   "source": [
    "\n",
    "df=data[data['MissionStatus']==1]\n",
    "success_rate_of_rocket_launches_for_each_year=(df['Year'].value_counts()/data['Year'].value_counts())*100\n",
    "print(success_rate_of_rocket_launches_for_each_year)\n",
    "\n",
    "\n",
    "max_successive_rate=success_rate_of_rocket_launches_for_each_year.max()\n",
    "print(f'The maximum of successive rate is:{max_successive_rate}')\n",
    "\n",
    "\n",
    "max_successive_rate=success_rate_of_rocket_launches_for_each_year.idxmax()\n",
    "print(f'The maximum of successive rate in:{max_successive_rate}')\n",
    "\n",
    "\n",
    "min_successive_rate=success_rate_of_rocket_launches_for_each_year.min()\n",
    "print(f'The minimum of successive rate is:{min_successive_rate}')\n",
    "\n",
    "\n",
    "min_successive_rate=success_rate_of_rocket_launches_for_each_year.idxmin()\n",
    "print(f'The minimum of successive rate in:{min_successive_rate}')\n"
   ]
  },
  {
   "cell_type": "markdown",
   "id": "0cfa8501",
   "metadata": {},
   "source": [
    "The index contains unique years from the 'Year' column.\n",
    "The values represent the percentage of successful launches in each corresponding year.\n",
    " in the output  the year 1957, approximately 66.66% of launches were successful.\n",
    " The maximum of successive rate in:1983 was 98.48%\n",
    " The minimum of successive rate in:1958 was 21.42%\n",
    " "
   ]
  },
  {
   "cell_type": "markdown",
   "id": "65f47abd",
   "metadata": {},
   "source": [
    "# **Company Analysis:**"
   ]
  },
  {
   "cell_type": "markdown",
   "id": "c8dbaa5f",
   "metadata": {},
   "source": [
    "# 11 Which company has conducted the most rocket launches?"
   ]
  },
  {
   "cell_type": "code",
   "execution_count": 30,
   "id": "6eb5bb1c",
   "metadata": {},
   "outputs": [
    {
     "name": "stdout",
     "output_type": "stream",
     "text": [
      "The company with the most rocket launches is RVSN USSR with RVSN USSR           1777\n",
      "CASC                 337\n",
      "Arianespace          293\n",
      "General Dynamics     251\n",
      "VKS RF               215\n",
      "                    ... \n",
      "Douglas                1\n",
      "CAS Space              1\n",
      "Khrunichev             1\n",
      "Landspace              1\n",
      "Firefly                1\n",
      "Name: Company, Length: 62, dtype: int64 launches.\n"
     ]
    }
   ],
   "source": [
    "\n",
    "\n",
    "company_launch_counts=data['Company'].value_counts()\n",
    "company_launch_counts\n",
    "most_launches_company=company_launch_counts.idxmax()\n",
    "most_launches_company\n",
    "most_launch_counts=data['Company'].value_counts()\n",
    "most_launch_counts\n",
    "print(f'The company with the most rocket launches is {most_launches_company} with {most_launch_counts} launches.')"
   ]
  },
  {
   "cell_type": "markdown",
   "id": "4f81c9b4",
   "metadata": {},
   "source": [
    "in my data the RVSN USSR company should be conducted the most rocket launches.\n",
    "RVSN USSR comapany conduct 1777 rocket launches in my data\n"
   ]
  },
  {
   "cell_type": "markdown",
   "id": "2ceaf80c",
   "metadata": {},
   "source": [
    "# 12 What is the success rate for each company?"
   ]
  },
  {
   "cell_type": "code",
   "execution_count": 31,
   "id": "19a40bcd",
   "metadata": {},
   "outputs": [
    {
     "data": {
      "text/plain": [
       "AEB                  0.000000\n",
       "AMBA                50.000000\n",
       "ASI                100.000000\n",
       "Arianespace         96.245734\n",
       "Armée de l'Air      75.000000\n",
       "                      ...    \n",
       "VKS RF              93.488372\n",
       "Virgin Galactic     66.666667\n",
       "Virgin Orbit        80.000000\n",
       "Yuzhmash           100.000000\n",
       "i-Space             25.000000\n",
       "Name: Company, Length: 62, dtype: float64"
      ]
     },
     "execution_count": 31,
     "metadata": {},
     "output_type": "execute_result"
    }
   ],
   "source": [
    "\n",
    "df=data[data['MissionStatus']==1]\n",
    "(df['Company'].value_counts()/data['Company'].value_counts())*100\n",
    "\n",
    "\n"
   ]
  },
  {
   "cell_type": "markdown",
   "id": "5533365d",
   "metadata": {},
   "source": [
    " Massion Status=1 it means, i take only success rocket in my data\n",
    "and find the success rate for each company using the formula.\n",
    "for example Yuzhmash this company have the 100% of success rate.\n"
   ]
  },
  {
   "cell_type": "markdown",
   "id": "574eccfb",
   "metadata": {},
   "source": [
    "# **Location Analysis:**"
   ]
  },
  {
   "cell_type": "markdown",
   "id": "1a8ec0ad",
   "metadata": {},
   "source": [
    "# 13 Which location has the highest number of rocket launches?"
   ]
  },
  {
   "cell_type": "code",
   "execution_count": 32,
   "id": "1c8d9899",
   "metadata": {},
   "outputs": [
    {
     "data": {
      "text/plain": [
       "'Site 31/6, Baikonur Cosmodrome, Kazakhstan'"
      ]
     },
     "execution_count": 32,
     "metadata": {},
     "output_type": "execute_result"
    }
   ],
   "source": [
    "data['Location'].value_counts().idxmax()"
   ]
  },
  {
   "cell_type": "markdown",
   "id": "6081e1cf",
   "metadata": {},
   "source": [
    "'Site 31/6, Baikonur Cosmodrome, Kazakhstan' this location has the highest number of rocket launches."
   ]
  },
  {
   "cell_type": "markdown",
   "id": "dbeb8470",
   "metadata": {},
   "source": [
    "# **Rocket Analysis:**"
   ]
  },
  {
   "cell_type": "markdown",
   "id": "ec20cc2d",
   "metadata": {},
   "source": [
    "# 14 Which rocket has been used the most for launches?"
   ]
  },
  {
   "cell_type": "code",
   "execution_count": 33,
   "id": "9e454f5d",
   "metadata": {},
   "outputs": [
    {
     "data": {
      "text/plain": [
       "Cosmos-3M (11K65M)     446\n",
       "Voskhod                299\n",
       "Molniya-M /Block ML    128\n",
       "Cosmos-2I (63SM)       126\n",
       "Soyuz U                125\n",
       "                      ... \n",
       "Energiya/Polyus          1\n",
       "Energiya/Buran           1\n",
       "Conestoga-1620           1\n",
       "Delta 3920-8             1\n",
       "Zoljanah                 1\n",
       "Name: Rocket, Length: 370, dtype: int64"
      ]
     },
     "execution_count": 33,
     "metadata": {},
     "output_type": "execute_result"
    }
   ],
   "source": [
    "data['Rocket'].value_counts()"
   ]
  },
  {
   "cell_type": "markdown",
   "id": "d03c2f72",
   "metadata": {},
   "source": [
    "The output should be shows each rocket should be how many times should be launches\n",
    "Cosmos-3M (11K65M)  This rocket  has been used the most for launches."
   ]
  },
  {
   "cell_type": "code",
   "execution_count": 34,
   "id": "d41114e5",
   "metadata": {},
   "outputs": [
    {
     "data": {
      "text/html": [
       "<div>\n",
       "<style scoped>\n",
       "    .dataframe tbody tr th:only-of-type {\n",
       "        vertical-align: middle;\n",
       "    }\n",
       "\n",
       "    .dataframe tbody tr th {\n",
       "        vertical-align: top;\n",
       "    }\n",
       "\n",
       "    .dataframe thead th {\n",
       "        text-align: right;\n",
       "    }\n",
       "</style>\n",
       "<table border=\"1\" class=\"dataframe\">\n",
       "  <thead>\n",
       "    <tr style=\"text-align: right;\">\n",
       "      <th></th>\n",
       "      <th>Company</th>\n",
       "      <th>Location</th>\n",
       "      <th>Year</th>\n",
       "      <th>Rocket</th>\n",
       "      <th>MissionStatus</th>\n",
       "      <th>RocketStatus</th>\n",
       "      <th>Mission</th>\n",
       "    </tr>\n",
       "  </thead>\n",
       "  <tbody>\n",
       "    <tr>\n",
       "      <th>2257</th>\n",
       "      <td>RVSN USSR</td>\n",
       "      <td>Site 107/1, Kapustin Yar, Russia</td>\n",
       "      <td>1973</td>\n",
       "      <td>Cosmos-3M (11K65M)</td>\n",
       "      <td>1</td>\n",
       "      <td>Retired</td>\n",
       "      <td>Cosmos 546</td>\n",
       "    </tr>\n",
       "    <tr>\n",
       "      <th>2258</th>\n",
       "      <td>RVSN USSR</td>\n",
       "      <td>Site 107/1, Kapustin Yar, Russia</td>\n",
       "      <td>1975</td>\n",
       "      <td>Cosmos-3M (11K65M)</td>\n",
       "      <td>0</td>\n",
       "      <td>Retired</td>\n",
       "      <td>DS-U3 satellite</td>\n",
       "    </tr>\n",
       "    <tr>\n",
       "      <th>2259</th>\n",
       "      <td>RVSN USSR</td>\n",
       "      <td>Site 107/1, Kapustin Yar, Russia</td>\n",
       "      <td>1977</td>\n",
       "      <td>Cosmos-3M (11K65M)</td>\n",
       "      <td>1</td>\n",
       "      <td>Retired</td>\n",
       "      <td>Cosmos 906</td>\n",
       "    </tr>\n",
       "    <tr>\n",
       "      <th>2260</th>\n",
       "      <td>RVSN USSR</td>\n",
       "      <td>Site 107/1, Kapustin Yar, Russia</td>\n",
       "      <td>1977</td>\n",
       "      <td>Cosmos-3M (11K65M)</td>\n",
       "      <td>1</td>\n",
       "      <td>Retired</td>\n",
       "      <td>Signe 3</td>\n",
       "    </tr>\n",
       "    <tr>\n",
       "      <th>2261</th>\n",
       "      <td>RVSN USSR</td>\n",
       "      <td>Site 107/1, Kapustin Yar, Russia</td>\n",
       "      <td>1978</td>\n",
       "      <td>Cosmos-3M (11K65M)</td>\n",
       "      <td>1</td>\n",
       "      <td>Retired</td>\n",
       "      <td>Cosmos 1065</td>\n",
       "    </tr>\n",
       "    <tr>\n",
       "      <th>...</th>\n",
       "      <td>...</td>\n",
       "      <td>...</td>\n",
       "      <td>...</td>\n",
       "      <td>...</td>\n",
       "      <td>...</td>\n",
       "      <td>...</td>\n",
       "      <td>...</td>\n",
       "    </tr>\n",
       "    <tr>\n",
       "      <th>4455</th>\n",
       "      <td>VKS RF</td>\n",
       "      <td>Site 133/3, Plesetsk Cosmodrome, Russia</td>\n",
       "      <td>1993</td>\n",
       "      <td>Cosmos-3M (11K65M)</td>\n",
       "      <td>1</td>\n",
       "      <td>Retired</td>\n",
       "      <td>Cosmos 2233</td>\n",
       "    </tr>\n",
       "    <tr>\n",
       "      <th>4456</th>\n",
       "      <td>VKS RF</td>\n",
       "      <td>Site 133/3, Plesetsk Cosmodrome, Russia</td>\n",
       "      <td>1993</td>\n",
       "      <td>Cosmos-3M (11K65M)</td>\n",
       "      <td>1</td>\n",
       "      <td>Retired</td>\n",
       "      <td>Cosmos 2230</td>\n",
       "    </tr>\n",
       "    <tr>\n",
       "      <th>4457</th>\n",
       "      <td>VKS RF</td>\n",
       "      <td>Site 133/3, Plesetsk Cosmodrome, Russia</td>\n",
       "      <td>1993</td>\n",
       "      <td>Cosmos-3M (11K65M)</td>\n",
       "      <td>1</td>\n",
       "      <td>Retired</td>\n",
       "      <td>Cosmos 2239</td>\n",
       "    </tr>\n",
       "    <tr>\n",
       "      <th>4458</th>\n",
       "      <td>VKS RF</td>\n",
       "      <td>Site 133/3, Plesetsk Cosmodrome, Russia</td>\n",
       "      <td>1994</td>\n",
       "      <td>Cosmos-3M (11K65M)</td>\n",
       "      <td>1</td>\n",
       "      <td>Retired</td>\n",
       "      <td>Cosmos 2279</td>\n",
       "    </tr>\n",
       "    <tr>\n",
       "      <th>4459</th>\n",
       "      <td>VKS RF</td>\n",
       "      <td>Site 133/3, Plesetsk Cosmodrome, Russia</td>\n",
       "      <td>1994</td>\n",
       "      <td>Cosmos-3M (11K65M)</td>\n",
       "      <td>1</td>\n",
       "      <td>Retired</td>\n",
       "      <td>Nadiezhda nâ€ Â­7</td>\n",
       "    </tr>\n",
       "  </tbody>\n",
       "</table>\n",
       "<p>446 rows × 7 columns</p>\n",
       "</div>"
      ],
      "text/plain": [
       "        Company                                 Location  Year  \\\n",
       "2257  RVSN USSR         Site 107/1, Kapustin Yar, Russia  1973   \n",
       "2258  RVSN USSR         Site 107/1, Kapustin Yar, Russia  1975   \n",
       "2259  RVSN USSR         Site 107/1, Kapustin Yar, Russia  1977   \n",
       "2260  RVSN USSR         Site 107/1, Kapustin Yar, Russia  1977   \n",
       "2261  RVSN USSR         Site 107/1, Kapustin Yar, Russia  1978   \n",
       "...         ...                                      ...   ...   \n",
       "4455     VKS RF  Site 133/3, Plesetsk Cosmodrome, Russia  1993   \n",
       "4456     VKS RF  Site 133/3, Plesetsk Cosmodrome, Russia  1993   \n",
       "4457     VKS RF  Site 133/3, Plesetsk Cosmodrome, Russia  1993   \n",
       "4458     VKS RF  Site 133/3, Plesetsk Cosmodrome, Russia  1994   \n",
       "4459     VKS RF  Site 133/3, Plesetsk Cosmodrome, Russia  1994   \n",
       "\n",
       "                  Rocket  MissionStatus RocketStatus            Mission  \n",
       "2257  Cosmos-3M (11K65M)              1      Retired         Cosmos 546  \n",
       "2258  Cosmos-3M (11K65M)              0      Retired    DS-U3 satellite  \n",
       "2259  Cosmos-3M (11K65M)              1      Retired         Cosmos 906  \n",
       "2260  Cosmos-3M (11K65M)              1      Retired            Signe 3  \n",
       "2261  Cosmos-3M (11K65M)              1      Retired        Cosmos 1065  \n",
       "...                  ...            ...          ...                ...  \n",
       "4455  Cosmos-3M (11K65M)              1      Retired        Cosmos 2233  \n",
       "4456  Cosmos-3M (11K65M)              1      Retired        Cosmos 2230  \n",
       "4457  Cosmos-3M (11K65M)              1      Retired        Cosmos 2239  \n",
       "4458  Cosmos-3M (11K65M)              1      Retired        Cosmos 2279  \n",
       "4459  Cosmos-3M (11K65M)              1      Retired  Nadiezhda nâ€ Â­7  \n",
       "\n",
       "[446 rows x 7 columns]"
      ]
     },
     "execution_count": 34,
     "metadata": {},
     "output_type": "execute_result"
    }
   ],
   "source": [
    "# simply cheaking\n",
    "data[data['Rocket']==\"Cosmos-3M (11K65M)\"]"
   ]
  },
  {
   "cell_type": "markdown",
   "id": "3e328d96",
   "metadata": {},
   "source": [
    "# 15 What is the success rate for missions using each rocket?"
   ]
  },
  {
   "cell_type": "code",
   "execution_count": 35,
   "id": "3602e94f",
   "metadata": {},
   "outputs": [
    {
     "data": {
      "text/plain": [
       "ASLV                 25.000000\n",
       "Angara 1.2          100.000000\n",
       "Angara A5/Briz-M    100.000000\n",
       "Angara A5/Persey      0.000000\n",
       "Antares 110         100.000000\n",
       "                       ...    \n",
       "Zenit-3 SLB          83.333333\n",
       "Zenit-3 SLBF        100.000000\n",
       "Zhongke-1A          100.000000\n",
       "ZhuQue-1              0.000000\n",
       "Zoljanah            100.000000\n",
       "Name: Rocket, Length: 370, dtype: float64"
      ]
     },
     "execution_count": 35,
     "metadata": {},
     "output_type": "execute_result"
    }
   ],
   "source": [
    "\n",
    "df=data[data['MissionStatus']==1]\n",
    "success_rate_for_missions_using_each_rocket=(df['Rocket'].value_counts()/data['Rocket'].value_counts())*100\n",
    "success_rate_for_missions_using_each_rocket"
   ]
  },
  {
   "cell_type": "markdown",
   "id": "e2b8e544",
   "metadata": {},
   "source": [
    " Massion Status=1 it means, i take only success rocket in my data\n",
    "and find the success rate for each mission using the formula.\n",
    "for exampleAngara A5/Briz-M this mission should be have the 100% of successive rate."
   ]
  },
  {
   "cell_type": "markdown",
   "id": "55fccc44",
   "metadata": {},
   "source": [
    "# **Mission Type Analysis:**"
   ]
  },
  {
   "cell_type": "markdown",
   "id": "eb963542",
   "metadata": {},
   "source": [
    "# 16 What are the most common types of missions conducted?"
   ]
  },
  {
   "cell_type": "code",
   "execution_count": 36,
   "id": "d522a729",
   "metadata": {},
   "outputs": [
    {
     "name": "stdout",
     "output_type": "stream",
     "text": [
      "Demo Flight                8\n",
      "DSP                        8\n",
      "KH-11                      6\n",
      "BOR-5 Shuttle              6\n",
      "Test flight                5\n",
      "                          ..\n",
      "Cosmos 70                  1\n",
      "Cosmos 700                 1\n",
      "Cosmos 701                 1\n",
      "Cosmos 702                 1\n",
      "Ã‘uSat 9 to 18 & Others    1\n",
      "Name: Mission, Length: 4555, dtype: int64\n",
      "The most common types of missions is: Demo Flight\n"
     ]
    }
   ],
   "source": [
    "\n",
    "\n",
    "\n",
    "\n",
    "most_common_types_of_missions_conducted=data['Mission'].value_counts()\n",
    "print(most_common_types_of_missions_conducted)\n",
    "max_mission=most_common_types_of_missions_conducted.idxmax()\n",
    "print(f'The most common types of missions is: {max_mission}')\n",
    "\n"
   ]
  },
  {
   "cell_type": "markdown",
   "id": "7e24dec6",
   "metadata": {},
   "source": [
    "Interpretation: Demo Flight Mission and DSP  is used maximum time to launch the rocket."
   ]
  },
  {
   "cell_type": "code",
   "execution_count": 37,
   "id": "d850eae7",
   "metadata": {},
   "outputs": [
    {
     "data": {
      "text/html": [
       "<div>\n",
       "<style scoped>\n",
       "    .dataframe tbody tr th:only-of-type {\n",
       "        vertical-align: middle;\n",
       "    }\n",
       "\n",
       "    .dataframe tbody tr th {\n",
       "        vertical-align: top;\n",
       "    }\n",
       "\n",
       "    .dataframe thead th {\n",
       "        text-align: right;\n",
       "    }\n",
       "</style>\n",
       "<table border=\"1\" class=\"dataframe\">\n",
       "  <thead>\n",
       "    <tr style=\"text-align: right;\">\n",
       "      <th></th>\n",
       "      <th>Company</th>\n",
       "      <th>Location</th>\n",
       "      <th>Year</th>\n",
       "      <th>Rocket</th>\n",
       "      <th>MissionStatus</th>\n",
       "      <th>RocketStatus</th>\n",
       "      <th>Mission</th>\n",
       "    </tr>\n",
       "  </thead>\n",
       "  <tbody>\n",
       "    <tr>\n",
       "      <th>481</th>\n",
       "      <td>CAS Space</td>\n",
       "      <td>Jiuquan Satellite Launch Center, China</td>\n",
       "      <td>2022</td>\n",
       "      <td>Zhongke-1A</td>\n",
       "      <td>1</td>\n",
       "      <td>Active</td>\n",
       "      <td>Demo Flight</td>\n",
       "    </tr>\n",
       "    <tr>\n",
       "      <th>491</th>\n",
       "      <td>CASC</td>\n",
       "      <td>LC-16, Taiyuan Satellite Launch Center, China</td>\n",
       "      <td>2015</td>\n",
       "      <td>Long March 6</td>\n",
       "      <td>1</td>\n",
       "      <td>Active</td>\n",
       "      <td>Demo Flight</td>\n",
       "    </tr>\n",
       "    <tr>\n",
       "      <th>571</th>\n",
       "      <td>CASC</td>\n",
       "      <td>LC-201, Wenchang Satellite Launch Center, China</td>\n",
       "      <td>2016</td>\n",
       "      <td>Long March 7/YZ-1A</td>\n",
       "      <td>1</td>\n",
       "      <td>Active</td>\n",
       "      <td>Demo Flight</td>\n",
       "    </tr>\n",
       "    <tr>\n",
       "      <th>1212</th>\n",
       "      <td>ISA</td>\n",
       "      <td>Launch Platform, Shahrud Missile Test Site, Iran</td>\n",
       "      <td>2021</td>\n",
       "      <td>Zoljanah</td>\n",
       "      <td>1</td>\n",
       "      <td>Active</td>\n",
       "      <td>Demo Flight</td>\n",
       "    </tr>\n",
       "    <tr>\n",
       "      <th>1347</th>\n",
       "      <td>Khrunichev</td>\n",
       "      <td>Site 35/1, Plesetsk Cosmodrome, Russia</td>\n",
       "      <td>2014</td>\n",
       "      <td>Angara A5/Briz-M</td>\n",
       "      <td>1</td>\n",
       "      <td>Active</td>\n",
       "      <td>Demo Flight</td>\n",
       "    </tr>\n",
       "    <tr>\n",
       "      <th>4402</th>\n",
       "      <td>Virgin Orbit</td>\n",
       "      <td>Cosmic Girl, Mojave Air and Space Port, Califo...</td>\n",
       "      <td>2020</td>\n",
       "      <td>LauncherOne</td>\n",
       "      <td>0</td>\n",
       "      <td>Active</td>\n",
       "      <td>Demo Flight</td>\n",
       "    </tr>\n",
       "    <tr>\n",
       "      <th>4527</th>\n",
       "      <td>VKS RF</td>\n",
       "      <td>Site 35/1, Plesetsk Cosmodrome, Russia</td>\n",
       "      <td>2014</td>\n",
       "      <td>Angara 1.2</td>\n",
       "      <td>1</td>\n",
       "      <td>Active</td>\n",
       "      <td>Demo Flight</td>\n",
       "    </tr>\n",
       "    <tr>\n",
       "      <th>4559</th>\n",
       "      <td>VKS RF</td>\n",
       "      <td>Site 43/4, Plesetsk Cosmodrome, Russia</td>\n",
       "      <td>2004</td>\n",
       "      <td>Soyuz 2.1a</td>\n",
       "      <td>1</td>\n",
       "      <td>Active</td>\n",
       "      <td>Demo Flight</td>\n",
       "    </tr>\n",
       "  </tbody>\n",
       "</table>\n",
       "</div>"
      ],
      "text/plain": [
       "           Company                                           Location  Year  \\\n",
       "481      CAS Space             Jiuquan Satellite Launch Center, China  2022   \n",
       "491           CASC      LC-16, Taiyuan Satellite Launch Center, China  2015   \n",
       "571           CASC    LC-201, Wenchang Satellite Launch Center, China  2016   \n",
       "1212           ISA   Launch Platform, Shahrud Missile Test Site, Iran  2021   \n",
       "1347    Khrunichev             Site 35/1, Plesetsk Cosmodrome, Russia  2014   \n",
       "4402  Virgin Orbit  Cosmic Girl, Mojave Air and Space Port, Califo...  2020   \n",
       "4527        VKS RF             Site 35/1, Plesetsk Cosmodrome, Russia  2014   \n",
       "4559        VKS RF             Site 43/4, Plesetsk Cosmodrome, Russia  2004   \n",
       "\n",
       "                  Rocket  MissionStatus RocketStatus      Mission  \n",
       "481           Zhongke-1A              1       Active  Demo Flight  \n",
       "491         Long March 6              1       Active  Demo Flight  \n",
       "571   Long March 7/YZ-1A              1       Active  Demo Flight  \n",
       "1212            Zoljanah              1       Active  Demo Flight  \n",
       "1347    Angara A5/Briz-M              1       Active  Demo Flight  \n",
       "4402         LauncherOne              0       Active  Demo Flight  \n",
       "4527          Angara 1.2              1       Active  Demo Flight  \n",
       "4559          Soyuz 2.1a              1       Active  Demo Flight  "
      ]
     },
     "execution_count": 37,
     "metadata": {},
     "output_type": "execute_result"
    }
   ],
   "source": [
    "# cheaking the maximum mission\n",
    "data[data['Mission']=='Demo Flight']"
   ]
  },
  {
   "cell_type": "code",
   "execution_count": null,
   "id": "64c41ef2",
   "metadata": {},
   "outputs": [],
   "source": []
  },
  {
   "cell_type": "markdown",
   "id": "288861da",
   "metadata": {},
   "source": [
    "# **Rocket Status and Mission Success:**"
   ]
  },
  {
   "cell_type": "markdown",
   "id": "fdfaafdd",
   "metadata": {},
   "source": [
    "# 17 What is the average mission success rate for rockets of different statuses?"
   ]
  },
  {
   "cell_type": "code",
   "execution_count": 38,
   "id": "dc4adcf3",
   "metadata": {},
   "outputs": [
    {
     "name": "stdout",
     "output_type": "stream",
     "text": [
      "RocketStatus\n",
      "Active     0.933466\n",
      "Retired    0.889964\n",
      "Name: MissionStatus, dtype: float64\n"
     ]
    }
   ],
   "source": [
    "\n",
    "\n",
    "\n",
    "\n",
    "# Group by the categorical column and calculate the mean of the numerical column\n",
    "result = data.groupby('RocketStatus')['MissionStatus'].mean()\n",
    "\n",
    "# Alternatively, calculate other statistics like median, standard deviation, etc.\n",
    "#result = df.groupby('MissionStatus')['RocketStatus'].median()\n",
    "# result = df.groupby('CategoricalColumn')['NumericalColumn'].std()\n",
    "\n",
    "print(result)\n",
    "\n"
   ]
  },
  {
   "cell_type": "markdown",
   "id": "50dfca65",
   "metadata": {},
   "source": [
    " am should be group by the mission status based on the 'RocketStatus.\n",
    " and find the average mission success rate for rockets of different statuses"
   ]
  },
  {
   "cell_type": "markdown",
   "id": "0ccc0092",
   "metadata": {},
   "source": [
    "# Visualization"
   ]
  },
  {
   "cell_type": "markdown",
   "id": "2e442b58",
   "metadata": {},
   "source": [
    "# 18 Create a time series plot to visualize the trend of rocket launches over the years."
   ]
  },
  {
   "cell_type": "code",
   "execution_count": 39,
   "id": "ae86eb13",
   "metadata": {},
   "outputs": [
    {
     "data": {
      "image/png": "[encoded data removed]",
      "text/plain": [
       "<Figure size 1200x600 with 1 Axes>"
      ]
     },
     "metadata": {},
     "output_type": "display_data"
    }
   ],
   "source": [
    "\n",
    "\n",
    "\n",
    "# Group the data by 'Year' and count the number of rocket launches per year\n",
    "rocket_launches_per_year = data['Year'].value_counts().sort_index()\n",
    "\n",
    "\n",
    "# Create a time series plot\n",
    "plt.figure(figsize=(12, 6))\n",
    "rocket_launches_per_year.plot(kind='line', marker='o', color='blue')\n",
    "plt.title('Rocket Launches Over the Years',size=20)\n",
    "plt.xlabel('Year',size=15)\n",
    "plt.ylabel('Number of Rocket Launches',size=15)\n",
    "plt.grid(True)\n",
    "plt.show()\n"
   ]
  },
  {
   "cell_type": "markdown",
   "id": "020e460a",
   "metadata": {},
   "source": [
    "The output of this code will be a time series plot that shows the trend of rocket launches over the years. \n",
    "The x-axis represents the years, and the y-axis represents the number of rocket launches in each year.\n",
    "\n",
    "The plot will display a line connecting the data points for each year, with markers at each data point. This visualization allows you to observe how the number of rocket launches has changed over time and identify any trends or patterns."
   ]
  },
  {
   "cell_type": "code",
   "execution_count": 40,
   "id": "06e0e2cb",
   "metadata": {},
   "outputs": [
    {
     "data": {
      "image/png": "[encoded data removed]",
      "text/plain": [
       "<Figure size 800x600 with 1 Axes>"
      ]
     },
     "metadata": {},
     "output_type": "display_data"
    },
    {
     "data": {
      "text/plain": [
       "1    1822\n",
       "0     136\n",
       "Name: MissionStatus, dtype: int64"
      ]
     },
     "execution_count": 40,
     "metadata": {},
     "output_type": "execute_result"
    }
   ],
   "source": [
    "\n",
    "# Am taking the year between 1981 to 2015 Because of these particular time perid the timseries plot shows the down of the frequency\n",
    "# So am taking this particular time period and cheaking how many success and how many failure \n",
    "\n",
    "d=data[(data['Year']>=1981) & (data['Year']<=2015)]\n",
    "mission_status_counts = d['MissionStatus'].value_counts()\n",
    "mission_status_counts\n",
    "\n",
    "# Create a bar plot to visualize the distribution\n",
    "plt.figure(figsize=(8, 6))\n",
    "bars=plt.bar(mission_status_counts.index,mission_status_counts.values,color=['black','c'])\n",
    "plt.title('Distribution of Mission Status',size=20)\n",
    "plt.xlabel('Mission Status')\n",
    "plt.ylabel('Count')\n",
    "legend_labels = ['No_of_success', 'No_of_failure']\n",
    "plt.legend(bars, legend_labels, title='Colors')\n",
    "plt.xticks(rotation=0)  # To display x-axis labels horizontally\n",
    "plt.show()\n",
    "mission_status_counts\n",
    "\n"
   ]
  },
  {
   "cell_type": "markdown",
   "id": "0fcca2aa",
   "metadata": {},
   "source": [
    "Am taking the year between 1981 to 2015 Because of these particular time perid the timseries plot shows the down of the frequency\n",
    "#So am taking this particular time period and cheaking how many success and how many failure.\n",
    "The black color represents ther no_of_success is 1822 between the 1981 to 2015\n",
    "the blue color represents the no_of_failure is 136 between the 1981 to 2015"
   ]
  },
  {
   "cell_type": "markdown",
   "id": "1b148c72",
   "metadata": {},
   "source": [
    "# 19 What is the distribution of rocket launch success and failure counts for the top three rocket companies (RVSN USSR, CASC, Arianespace), and how do they compare?\""
   ]
  },
  {
   "cell_type": "code",
   "execution_count": 41,
   "id": "28fee1b3",
   "metadata": {},
   "outputs": [
    {
     "name": "stdout",
     "output_type": "stream",
     "text": [
      "Top Three Companies in Rocket Launches:\n",
      "RVSN USSR      1777\n",
      "CASC            337\n",
      "Arianespace     293\n",
      "Name: Company, dtype: int64\n",
      "1    1614\n",
      "0     163\n",
      "Name: MissionStatus, dtype: int64\n",
      "1    317\n",
      "0     20\n",
      "Name: MissionStatus, dtype: int64\n",
      "1    282\n",
      "0     11\n",
      "Name: MissionStatus, dtype: int64\n"
     ]
    },
    {
     "name": "stderr",
     "output_type": "stream",
     "text": [
      "C:\\Users\\ADMIN\\anaconda3\\lib\\site-packages\\seaborn\\_decorators.py:36: FutureWarning: Pass the following variables as keyword args: x, y. From version 0.12, the only valid positional argument will be `data`, and passing other arguments without an explicit keyword will result in an error or misinterpretation.\n",
      "  warnings.warn(\n",
      "C:\\Users\\ADMIN\\anaconda3\\lib\\site-packages\\seaborn\\_decorators.py:36: FutureWarning: Pass the following variables as keyword args: x, y. From version 0.12, the only valid positional argument will be `data`, and passing other arguments without an explicit keyword will result in an error or misinterpretation.\n",
      "  warnings.warn(\n"
     ]
    },
    {
     "data": {
      "image/png": "[encoded data removed]",
      "text/plain": [
       "<Figure size 640x480 with 1 Axes>"
      ]
     },
     "metadata": {},
     "output_type": "display_data"
    }
   ],
   "source": [
    "# Count the number of rocket launches for each company\n",
    "company_launch_counts = data['Company'].value_counts()\n",
    "\n",
    "# Sort the companies by the number of launches in descending order\n",
    "sorted_companies = company_launch_counts.sort_values(ascending=False)\n",
    "\n",
    "# Get the top three companies\n",
    "top_three_companies = sorted_companies.head(3)\n",
    "\n",
    "print(\"Top Three Companies in Rocket Launches:\")\n",
    "print(top_three_companies)\n",
    "\n",
    "filtered_df = data[data['Company'].isin(['RVSN USSR', 'CASC', 'Arianespace'])]\n",
    "\n",
    "\n",
    "print(filtered_df.loc[filtered_df['Company'] == 'RVSN USSR', 'MissionStatus'].value_counts())\n",
    "print(filtered_df.loc[filtered_df['Company'] == 'CASC', 'MissionStatus'].value_counts())\n",
    "print(filtered_df.loc[filtered_df['Company'] == 'Arianespace', 'MissionStatus'].value_counts())\n",
    "\n",
    "categories=['RVSN USSR','CASC','Arianespace']\n",
    "No_of_success = [1614, 317, 282]\n",
    "No_of_failure = [163, 20, 11]\n",
    "\n",
    "\n",
    "# Create a stacked bar plot\n",
    "sns.barplot(categories, No_of_success, label='rocket_success', color='g')\n",
    "sns.barplot(categories, No_of_failure, label='Rocker_failure', bottom=No_of_success, color='r')\n",
    "\n",
    "# Add labels and a legend\n",
    "plt.xlabel('Top three companies')\n",
    "plt.ylabel('counts for success and failure')\n",
    "plt.title('Stacked Bar Plot Example')\n",
    "plt.legend()\n",
    "\n",
    "# Show the plot\n",
    "plt.show()"
   ]
  },
  {
   "cell_type": "markdown",
   "id": "bcfa71af",
   "metadata": {},
   "source": [
    "The plot displays the top three companies ('RVSN USSR', 'CASC', 'Arianespace') on the x-axis.\n",
    "\n",
    "For each of these companies, there are two bars: green and red.\n",
    "\n",
    "The green bars represent the number of successful rocket launches for each company, and the red bars represent the number of failed rocket launches.\n",
    "\n",
    "For 'RVSN USSR', there were 1614 successful launches and 163 failed launches.\n",
    "\n",
    "For 'CASC', there were 317 successful launches and 20 failed launches.\n",
    "\n",
    "For 'Arianespace', there were 282 successful launches and 11 failed launches.\n",
    "\n",
    "This stacked bar plot provides a visual comparison of the success and failure counts for the top three rocket launch companies, allowing you to see how their missions have performed over time."
   ]
  },
  {
   "cell_type": "markdown",
   "id": "f30fc9f7",
   "metadata": {},
   "source": [
    "# 20 What is the proportion of retired and active rockets in the dataset, and how does this distribution reflect the overall status of rockets in the dataset?\""
   ]
  },
  {
   "cell_type": "code",
   "execution_count": 42,
   "id": "56120df6",
   "metadata": {},
   "outputs": [
    {
     "data": {
      "image/png": "[encoded data removed]",
      "text/plain": [
       "<Figure size 800x800 with 1 Axes>"
      ]
     },
     "metadata": {},
     "output_type": "display_data"
    }
   ],
   "source": [
    "\n",
    "\n",
    "# Calculate the counts of each rocket status\n",
    "rocket_status_counts = data['RocketStatus'].value_counts()\n",
    "lables=['No_of_retired','No_of_Active']\n",
    "\n",
    "# Create a pie chart to represent the distribution of rocket statuses\n",
    "plt.figure(figsize=(8, 8))\n",
    "plt.pie(rocket_status_counts, labels=rocket_status_counts.index, autopct='%1.1f%%', startangle=140)\n",
    "plt.legend(lables, loc='best')\n",
    "plt.title('Distribution of Rocket Statuses')\n",
    "plt.axis('equal')  # Equal aspect ratio ensures that pie is drawn as a circle.\n",
    "\n",
    "plt.show()\n"
   ]
  },
  {
   "cell_type": "markdown",
   "id": "52410fff",
   "metadata": {},
   "source": [
    "in the Diagram:\n",
    "The blue color represent the No_of_retired rocket=78.2%\n",
    "The orange color represent the No_of_Active rocket=21.8%"
   ]
  },
  {
   "cell_type": "markdown",
   "id": "3d924c9b",
   "metadata": {},
   "source": [
    "# 21 What is the proportion of successful and failed rocket launches in the dataset, and how does this distribution look visually in a pie chart?"
   ]
  },
  {
   "cell_type": "code",
   "execution_count": 43,
   "id": "d6d5c8c5",
   "metadata": {},
   "outputs": [
    {
     "data": {
      "image/png": "[encoded data removed]",
      "text/plain": [
       "<Figure size 800x800 with 1 Axes>"
      ]
     },
     "metadata": {},
     "output_type": "display_data"
    }
   ],
   "source": [
    "\n",
    "# Calculate the counts of each rocket status\n",
    "rocket_status_counts = data['MissionStatus'].value_counts()\n",
    "labels=[\"No_of_success\",\"No_of_failure\"]\n",
    "\n",
    "# Create a pie chart to represent the distribution of rocket statuses\n",
    "plt.figure(figsize=(8, 8))\n",
    "plt.pie(rocket_status_counts, labels=rocket_status_counts.index, autopct='%1.1f%%', startangle=260)\n",
    "plt.legend(labels, loc='best')\n",
    "plt.title('Distribution of Rocket Statuses')\n",
    "plt.axis('equal')  # Equal aspect ratio ensures that pie is drawn as a circle.\n",
    "\n",
    "plt.show()"
   ]
  },
  {
   "cell_type": "markdown",
   "id": "079bc577",
   "metadata": {},
   "source": [
    "in the Diagram:\n",
    "The bule color represent the No_of_success=89.9%\n",
    "the orange color represent the No_of_failure=10.1%"
   ]
  },
  {
   "cell_type": "markdown",
   "id": "915d228f",
   "metadata": {},
   "source": [
    "# 22 What is the contingency table showing the counts of rocket statuses and mission statuses, and how do they relate to each other?"
   ]
  },
  {
   "cell_type": "code",
   "execution_count": 44,
   "id": "9b68e70a",
   "metadata": {},
   "outputs": [
    {
     "data": {
      "text/html": [
       "<div>\n",
       "<style scoped>\n",
       "    .dataframe tbody tr th:only-of-type {\n",
       "        vertical-align: middle;\n",
       "    }\n",
       "\n",
       "    .dataframe tbody tr th {\n",
       "        vertical-align: top;\n",
       "    }\n",
       "\n",
       "    .dataframe thead th {\n",
       "        text-align: right;\n",
       "    }\n",
       "</style>\n",
       "<table border=\"1\" class=\"dataframe\">\n",
       "  <thead>\n",
       "    <tr style=\"text-align: right;\">\n",
       "      <th>MissionStatus</th>\n",
       "      <th>0</th>\n",
       "      <th>1</th>\n",
       "    </tr>\n",
       "    <tr>\n",
       "      <th>RocketStatus</th>\n",
       "      <th></th>\n",
       "      <th></th>\n",
       "    </tr>\n",
       "  </thead>\n",
       "  <tbody>\n",
       "    <tr>\n",
       "      <th>Active</th>\n",
       "      <td>67</td>\n",
       "      <td>940</td>\n",
       "    </tr>\n",
       "    <tr>\n",
       "      <th>Retired</th>\n",
       "      <td>398</td>\n",
       "      <td>3219</td>\n",
       "    </tr>\n",
       "  </tbody>\n",
       "</table>\n",
       "</div>"
      ],
      "text/plain": [
       "MissionStatus    0     1\n",
       "RocketStatus            \n",
       "Active          67   940\n",
       "Retired        398  3219"
      ]
     },
     "execution_count": 44,
     "metadata": {},
     "output_type": "execute_result"
    }
   ],
   "source": [
    "pd.crosstab(data['RocketStatus'],data['MissionStatus'])"
   ]
  },
  {
   "cell_type": "markdown",
   "id": "527cd3d6",
   "metadata": {},
   "source": [
    "\n",
    "in the output:\n",
    "if the mission status is failure and rocket status is active of the count is 67\n",
    "if the mission status is Success and rocket status is active of the count is 940\n",
    "if the mission status is failure and rocket status is retired of the count is 398\n",
    "if the mission status is success and rocket status is retired of the count is 3219"
   ]
  },
  {
   "cell_type": "markdown",
   "id": "c3eca3f1",
   "metadata": {},
   "source": [
    "# 23 How does the distribution of mission statuses (e.g., successful, failed) vary between different rocket statuses (e.g., active, inactive), and how is this distribution visually represented using a bar plot?"
   ]
  },
  {
   "cell_type": "code",
   "execution_count": 45,
   "id": "a8fa7c5e",
   "metadata": {},
   "outputs": [
    {
     "data": {
      "text/plain": [
       "Text(0, 0.5, 'Count_of_machine_status----->')"
      ]
     },
     "execution_count": 45,
     "metadata": {},
     "output_type": "execute_result"
    },
    {
     "data": {
      "image/png": "[encoded data removed]",
      "text/plain": [
       "<Figure size 640x480 with 1 Axes>"
      ]
     },
     "metadata": {},
     "output_type": "display_data"
    }
   ],
   "source": [
    "pd.crosstab(data['RocketStatus'],data['MissionStatus']).plot(kind = \"bar\")\n",
    "plt.xlabel(\"Rocket_status----->\")\n",
    "plt.ylabel(\"Count_of_machine_status----->\")"
   ]
  },
  {
   "cell_type": "markdown",
   "id": "495d45cf",
   "metadata": {},
   "source": [
    "interpratation:\n",
    "\n",
    "The blue colur is represent the failure count of the machine\n",
    "The orange colur is represent the sucess count of the machine\n"
   ]
  },
  {
   "cell_type": "markdown",
   "id": "20d85148",
   "metadata": {},
   "source": [
    "# 24 Which company has the maximum number of rocket launches, and what is the distribution of successful and failed missions for that company? Additionally, in which year did this company launch the most rockets?"
   ]
  },
  {
   "cell_type": "code",
   "execution_count": 46,
   "id": "422fbce9",
   "metadata": {},
   "outputs": [
    {
     "name": "stdout",
     "output_type": "stream",
     "text": [
      "RVSN USSR           1777\n",
      "CASC                 337\n",
      "Arianespace          293\n",
      "General Dynamics     251\n",
      "VKS RF               215\n",
      "                    ... \n",
      "Douglas                1\n",
      "CAS Space              1\n",
      "Khrunichev             1\n",
      "Landspace              1\n",
      "Firefly                1\n",
      "Name: Company, Length: 62, dtype: int64\n",
      " RVSN USSR company should maximum launched the rocket in :  1977 th year\n"
     ]
    },
    {
     "data": {
      "text/plain": [
       "1    1614\n",
       "0     163\n",
       "Name: MissionStatus, dtype: int64"
      ]
     },
     "execution_count": 46,
     "metadata": {},
     "output_type": "execute_result"
    }
   ],
   "source": [
    "\n",
    "# cheaking which company should maximum lanched rocket\n",
    "max_coumpany=data['Company'].value_counts()\n",
    "print(max_coumpany)\n",
    "\n",
    "# 'RVSN USSR' this company should laching rocket maximum time\n",
    "df1=data[data['Company']=='RVSN USSR']\n",
    "\n",
    "\n",
    "\n",
    "max_year=df1['Year'].value_counts().idxmax()\n",
    "print(' RVSN USSR company should maximum launched the rocket in : ',max_year,\"th year\")\n",
    "\n",
    "\n",
    "# cheaking how many success and how many failure in max of rocketlanching company\n",
    "df1['MissionStatus'].value_counts()"
   ]
  },
  {
   "cell_type": "markdown",
   "id": "e19c19c8",
   "metadata": {},
   "source": [
    "\n",
    "In summary, the output provides information about the rocket launch data, highlighting that 'RVSN USSR' had the most rocket launches, with a maximum number of launches occurring in the year 2021. Additionally, it shows the count of successful and failed missions for 'RVSN USSR' in a separate DataFrame (`df1`), where '1' represents successful missions, and '0' represents failed missions."
   ]
  },
  {
   "cell_type": "markdown",
   "id": "40508a10",
   "metadata": {},
   "source": [
    "# 25 How many missions were launched by each company in each year, and what is the distribution of successful and failed missions for these combinations, as represented in a pivot table?"
   ]
  },
  {
   "cell_type": "code",
   "execution_count": 47,
   "id": "a5faff9d",
   "metadata": {},
   "outputs": [
    {
     "name": "stdout",
     "output_type": "stream",
     "text": [
      "              Mission   \n",
      "MissionStatus       0  1\n",
      "Company Year            \n",
      "AEB     1957        0  0\n",
      "        1958        0  0\n",
      "        1959        0  0\n",
      "        1960        0  0\n",
      "        1961        0  0\n",
      "...               ... ..\n",
      "i-Space 2018        0  0\n",
      "        2019        0  1\n",
      "        2020        0  0\n",
      "        2021        2  0\n",
      "        2022        1  0\n",
      "\n",
      "[4092 rows x 2 columns]\n"
     ]
    }
   ],
   "source": [
    "\n",
    "# Create a pivot table to summarize data\n",
    "pivot_table = pd.pivot_table(data, \n",
    "                             values=['Mission'],  # Column(s) to aggregate\n",
    "                             index=['Company', 'Year'],  # Row indices\n",
    "                             columns=['MissionStatus'],  # Column indices\n",
    "                             aggfunc={'Mission': 'count'},  # Aggregation function (counting missions)\n",
    "                             fill_value=0)  # Fill missing values with 0\n",
    "\n",
    "print(pivot_table)\n"
   ]
  },
  {
   "cell_type": "markdown",
   "id": "325e6862",
   "metadata": {},
   "source": [
    "In this output, the pivot table shows the count of mission outcomes (Failure and Success) for each combination of Company and Year."
   ]
  },
  {
   "cell_type": "code",
   "execution_count": 48,
   "id": "56b13c81",
   "metadata": {},
   "outputs": [],
   "source": [
    "\n",
    "\n",
    "\n",
    "# Split the 'Location' column by comma and space\n",
    "data['Location'] = data['Location'].str.split(', ')\n",
    "\n",
    "data['Country'] = data['Location'].str.get(-1)\n",
    "\n",
    "# Use .explode() to remove the list structure\n",
    "data = data.explode('Location')\n",
    "\n",
    "\n",
    "\n"
   ]
  },
  {
   "cell_type": "markdown",
   "id": "ccc42cac",
   "metadata": {},
   "source": [
    "Each element in the 'Location' column is now separated into its own row, with the corresponding 'Country' value retained for each row."
   ]
  },
  {
   "cell_type": "code",
   "execution_count": 49,
   "id": "820ffea2",
   "metadata": {},
   "outputs": [
    {
     "data": {
      "text/html": [
       "<div>\n",
       "<style scoped>\n",
       "    .dataframe tbody tr th:only-of-type {\n",
       "        vertical-align: middle;\n",
       "    }\n",
       "\n",
       "    .dataframe tbody tr th {\n",
       "        vertical-align: top;\n",
       "    }\n",
       "\n",
       "    .dataframe thead th {\n",
       "        text-align: right;\n",
       "    }\n",
       "</style>\n",
       "<table border=\"1\" class=\"dataframe\">\n",
       "  <thead>\n",
       "    <tr style=\"text-align: right;\">\n",
       "      <th></th>\n",
       "      <th>Company</th>\n",
       "      <th>Location</th>\n",
       "      <th>Year</th>\n",
       "      <th>Rocket</th>\n",
       "      <th>MissionStatus</th>\n",
       "      <th>RocketStatus</th>\n",
       "      <th>Mission</th>\n",
       "      <th>Country</th>\n",
       "    </tr>\n",
       "  </thead>\n",
       "  <tbody>\n",
       "    <tr>\n",
       "      <th>0</th>\n",
       "      <td>AEB</td>\n",
       "      <td>VLS Pad</td>\n",
       "      <td>1997</td>\n",
       "      <td>VLS-1</td>\n",
       "      <td>0</td>\n",
       "      <td>Retired</td>\n",
       "      <td>SCD-2A</td>\n",
       "      <td>Brazil</td>\n",
       "    </tr>\n",
       "    <tr>\n",
       "      <th>0</th>\n",
       "      <td>AEB</td>\n",
       "      <td>Alcântara Launch Center</td>\n",
       "      <td>1997</td>\n",
       "      <td>VLS-1</td>\n",
       "      <td>0</td>\n",
       "      <td>Retired</td>\n",
       "      <td>SCD-2A</td>\n",
       "      <td>Brazil</td>\n",
       "    </tr>\n",
       "    <tr>\n",
       "      <th>0</th>\n",
       "      <td>AEB</td>\n",
       "      <td>Maranhão</td>\n",
       "      <td>1997</td>\n",
       "      <td>VLS-1</td>\n",
       "      <td>0</td>\n",
       "      <td>Retired</td>\n",
       "      <td>SCD-2A</td>\n",
       "      <td>Brazil</td>\n",
       "    </tr>\n",
       "    <tr>\n",
       "      <th>0</th>\n",
       "      <td>AEB</td>\n",
       "      <td>Brazil</td>\n",
       "      <td>1997</td>\n",
       "      <td>VLS-1</td>\n",
       "      <td>0</td>\n",
       "      <td>Retired</td>\n",
       "      <td>SCD-2A</td>\n",
       "      <td>Brazil</td>\n",
       "    </tr>\n",
       "    <tr>\n",
       "      <th>1</th>\n",
       "      <td>AEB</td>\n",
       "      <td>VLS Pad</td>\n",
       "      <td>1999</td>\n",
       "      <td>VLS-1</td>\n",
       "      <td>0</td>\n",
       "      <td>Retired</td>\n",
       "      <td>SACI-2</td>\n",
       "      <td>Brazil</td>\n",
       "    </tr>\n",
       "    <tr>\n",
       "      <th>...</th>\n",
       "      <td>...</td>\n",
       "      <td>...</td>\n",
       "      <td>...</td>\n",
       "      <td>...</td>\n",
       "      <td>...</td>\n",
       "      <td>...</td>\n",
       "      <td>...</td>\n",
       "      <td>...</td>\n",
       "    </tr>\n",
       "    <tr>\n",
       "      <th>4622</th>\n",
       "      <td>Yuzhmash</td>\n",
       "      <td>Plesetsk Cosmodrome</td>\n",
       "      <td>1991</td>\n",
       "      <td>Tsyklon-3</td>\n",
       "      <td>1</td>\n",
       "      <td>Retired</td>\n",
       "      <td>Intercosmos 25 &amp; Magion 3</td>\n",
       "      <td>Russia</td>\n",
       "    </tr>\n",
       "    <tr>\n",
       "      <th>4622</th>\n",
       "      <td>Yuzhmash</td>\n",
       "      <td>Russia</td>\n",
       "      <td>1991</td>\n",
       "      <td>Tsyklon-3</td>\n",
       "      <td>1</td>\n",
       "      <td>Retired</td>\n",
       "      <td>Intercosmos 25 &amp; Magion 3</td>\n",
       "      <td>Russia</td>\n",
       "    </tr>\n",
       "    <tr>\n",
       "      <th>4623</th>\n",
       "      <td>Yuzhmash</td>\n",
       "      <td>Site 90/20</td>\n",
       "      <td>1969</td>\n",
       "      <td>Tsyklon-2</td>\n",
       "      <td>1</td>\n",
       "      <td>Retired</td>\n",
       "      <td>IS Mass Model</td>\n",
       "      <td>Kazakhstan</td>\n",
       "    </tr>\n",
       "    <tr>\n",
       "      <th>4623</th>\n",
       "      <td>Yuzhmash</td>\n",
       "      <td>Baikonur Cosmodrome</td>\n",
       "      <td>1969</td>\n",
       "      <td>Tsyklon-2</td>\n",
       "      <td>1</td>\n",
       "      <td>Retired</td>\n",
       "      <td>IS Mass Model</td>\n",
       "      <td>Kazakhstan</td>\n",
       "    </tr>\n",
       "    <tr>\n",
       "      <th>4623</th>\n",
       "      <td>Yuzhmash</td>\n",
       "      <td>Kazakhstan</td>\n",
       "      <td>1969</td>\n",
       "      <td>Tsyklon-2</td>\n",
       "      <td>1</td>\n",
       "      <td>Retired</td>\n",
       "      <td>IS Mass Model</td>\n",
       "      <td>Kazakhstan</td>\n",
       "    </tr>\n",
       "  </tbody>\n",
       "</table>\n",
       "<p>15637 rows × 8 columns</p>\n",
       "</div>"
      ],
      "text/plain": [
       "       Company                 Location  Year     Rocket  MissionStatus  \\\n",
       "0          AEB                  VLS Pad  1997      VLS-1              0   \n",
       "0          AEB  Alcântara Launch Center  1997      VLS-1              0   \n",
       "0          AEB                 Maranhão  1997      VLS-1              0   \n",
       "0          AEB                   Brazil  1997      VLS-1              0   \n",
       "1          AEB                  VLS Pad  1999      VLS-1              0   \n",
       "...        ...                      ...   ...        ...            ...   \n",
       "4622  Yuzhmash      Plesetsk Cosmodrome  1991  Tsyklon-3              1   \n",
       "4622  Yuzhmash                   Russia  1991  Tsyklon-3              1   \n",
       "4623  Yuzhmash               Site 90/20  1969  Tsyklon-2              1   \n",
       "4623  Yuzhmash      Baikonur Cosmodrome  1969  Tsyklon-2              1   \n",
       "4623  Yuzhmash               Kazakhstan  1969  Tsyklon-2              1   \n",
       "\n",
       "     RocketStatus                    Mission     Country  \n",
       "0         Retired                     SCD-2A      Brazil  \n",
       "0         Retired                     SCD-2A      Brazil  \n",
       "0         Retired                     SCD-2A      Brazil  \n",
       "0         Retired                     SCD-2A      Brazil  \n",
       "1         Retired                     SACI-2      Brazil  \n",
       "...           ...                        ...         ...  \n",
       "4622      Retired  Intercosmos 25 & Magion 3      Russia  \n",
       "4622      Retired  Intercosmos 25 & Magion 3      Russia  \n",
       "4623      Retired              IS Mass Model  Kazakhstan  \n",
       "4623      Retired              IS Mass Model  Kazakhstan  \n",
       "4623      Retired              IS Mass Model  Kazakhstan  \n",
       "\n",
       "[15637 rows x 8 columns]"
      ]
     },
     "execution_count": 49,
     "metadata": {},
     "output_type": "execute_result"
    }
   ],
   "source": [
    "data"
   ]
  },
  {
   "cell_type": "markdown",
   "id": "85879bbe",
   "metadata": {},
   "source": [
    "# 26 How can you categorize the rocket launches in the dataset by continent, and how do you handle mapping countries or locations to their respective continents?"
   ]
  },
  {
   "cell_type": "code",
   "execution_count": 50,
   "id": "ecf344d1",
   "metadata": {},
   "outputs": [],
   "source": [
    "\n",
    "    # Define a dictionary to map countries/locations to continents\n",
    "continent_mapping = {\n",
    "    'Brazil': 'South America',\n",
    "    'Australia': 'Australia',\n",
    "    'USA': 'North America',\n",
    "    'France': 'Europe',\n",
    "    'Kazakhstan': 'Asia',\n",
    "    'Kenya': 'Africa',\n",
    "    'China': 'Asia',\n",
    "    'Yellow Sea': 'Asia',\n",
    "    'Russia': 'Asia/Europe',\n",
    "    'New Mexico': 'North America',\n",
    "    'Israel': 'Asia',\n",
    "    'Shahrud Missile Test Site': 'Asia',\n",
    "    'Iran': 'Asia',\n",
    "    'Japan': 'Asia',\n",
    "    'India': 'Asia',\n",
    "    'South Korea': 'Asia',\n",
    "    'North Korea': 'Asia',\n",
    "    'Gran Canaria': 'Africa',\n",
    "    'New Zealand': 'Australia/Oceania',\n",
    "    'Pacific Missile Range Facility': 'North America',\n",
    "    'Pacific Ocean': 'Oceania',\n",
    "    'Barents Sea': 'Europe/Asia',  # Add a comma here\n",
    "    'South America': 'South America'  # You can include 'South America' if needed\n",
    "}\n",
    "\n",
    "# Map the 'Country' column to 'Continent' using the dictionary\n",
    "data['Continent'] = data['Country'].apply(lambda x: continent_mapping.get(x, 'Unknown'))\n"
   ]
  },
  {
   "cell_type": "markdown",
   "id": "45d65f33",
   "metadata": {},
   "source": [
    "The 'Country' values have been mapped to their respective continents using the continent_mapping dictionary, and the corresponding continent information is stored in the 'Continent' column. If a country is not found in the dictionary, it is assigned the value 'Unknown' in the 'Continent' column."
   ]
  },
  {
   "cell_type": "code",
   "execution_count": 51,
   "id": "0153ced9",
   "metadata": {},
   "outputs": [
    {
     "data": {
      "text/html": [
       "<div>\n",
       "<style scoped>\n",
       "    .dataframe tbody tr th:only-of-type {\n",
       "        vertical-align: middle;\n",
       "    }\n",
       "\n",
       "    .dataframe tbody tr th {\n",
       "        vertical-align: top;\n",
       "    }\n",
       "\n",
       "    .dataframe thead th {\n",
       "        text-align: right;\n",
       "    }\n",
       "</style>\n",
       "<table border=\"1\" class=\"dataframe\">\n",
       "  <thead>\n",
       "    <tr style=\"text-align: right;\">\n",
       "      <th></th>\n",
       "      <th>Company</th>\n",
       "      <th>Location</th>\n",
       "      <th>Year</th>\n",
       "      <th>Rocket</th>\n",
       "      <th>MissionStatus</th>\n",
       "      <th>RocketStatus</th>\n",
       "      <th>Mission</th>\n",
       "      <th>Country</th>\n",
       "      <th>Continent</th>\n",
       "    </tr>\n",
       "  </thead>\n",
       "  <tbody>\n",
       "    <tr>\n",
       "      <th>0</th>\n",
       "      <td>AEB</td>\n",
       "      <td>VLS Pad</td>\n",
       "      <td>1997</td>\n",
       "      <td>VLS-1</td>\n",
       "      <td>0</td>\n",
       "      <td>Retired</td>\n",
       "      <td>SCD-2A</td>\n",
       "      <td>Brazil</td>\n",
       "      <td>South America</td>\n",
       "    </tr>\n",
       "    <tr>\n",
       "      <th>0</th>\n",
       "      <td>AEB</td>\n",
       "      <td>Alcântara Launch Center</td>\n",
       "      <td>1997</td>\n",
       "      <td>VLS-1</td>\n",
       "      <td>0</td>\n",
       "      <td>Retired</td>\n",
       "      <td>SCD-2A</td>\n",
       "      <td>Brazil</td>\n",
       "      <td>South America</td>\n",
       "    </tr>\n",
       "    <tr>\n",
       "      <th>0</th>\n",
       "      <td>AEB</td>\n",
       "      <td>Maranhão</td>\n",
       "      <td>1997</td>\n",
       "      <td>VLS-1</td>\n",
       "      <td>0</td>\n",
       "      <td>Retired</td>\n",
       "      <td>SCD-2A</td>\n",
       "      <td>Brazil</td>\n",
       "      <td>South America</td>\n",
       "    </tr>\n",
       "    <tr>\n",
       "      <th>0</th>\n",
       "      <td>AEB</td>\n",
       "      <td>Brazil</td>\n",
       "      <td>1997</td>\n",
       "      <td>VLS-1</td>\n",
       "      <td>0</td>\n",
       "      <td>Retired</td>\n",
       "      <td>SCD-2A</td>\n",
       "      <td>Brazil</td>\n",
       "      <td>South America</td>\n",
       "    </tr>\n",
       "    <tr>\n",
       "      <th>1</th>\n",
       "      <td>AEB</td>\n",
       "      <td>VLS Pad</td>\n",
       "      <td>1999</td>\n",
       "      <td>VLS-1</td>\n",
       "      <td>0</td>\n",
       "      <td>Retired</td>\n",
       "      <td>SACI-2</td>\n",
       "      <td>Brazil</td>\n",
       "      <td>South America</td>\n",
       "    </tr>\n",
       "    <tr>\n",
       "      <th>...</th>\n",
       "      <td>...</td>\n",
       "      <td>...</td>\n",
       "      <td>...</td>\n",
       "      <td>...</td>\n",
       "      <td>...</td>\n",
       "      <td>...</td>\n",
       "      <td>...</td>\n",
       "      <td>...</td>\n",
       "      <td>...</td>\n",
       "    </tr>\n",
       "    <tr>\n",
       "      <th>4622</th>\n",
       "      <td>Yuzhmash</td>\n",
       "      <td>Plesetsk Cosmodrome</td>\n",
       "      <td>1991</td>\n",
       "      <td>Tsyklon-3</td>\n",
       "      <td>1</td>\n",
       "      <td>Retired</td>\n",
       "      <td>Intercosmos 25 &amp; Magion 3</td>\n",
       "      <td>Russia</td>\n",
       "      <td>Asia/Europe</td>\n",
       "    </tr>\n",
       "    <tr>\n",
       "      <th>4622</th>\n",
       "      <td>Yuzhmash</td>\n",
       "      <td>Russia</td>\n",
       "      <td>1991</td>\n",
       "      <td>Tsyklon-3</td>\n",
       "      <td>1</td>\n",
       "      <td>Retired</td>\n",
       "      <td>Intercosmos 25 &amp; Magion 3</td>\n",
       "      <td>Russia</td>\n",
       "      <td>Asia/Europe</td>\n",
       "    </tr>\n",
       "    <tr>\n",
       "      <th>4623</th>\n",
       "      <td>Yuzhmash</td>\n",
       "      <td>Site 90/20</td>\n",
       "      <td>1969</td>\n",
       "      <td>Tsyklon-2</td>\n",
       "      <td>1</td>\n",
       "      <td>Retired</td>\n",
       "      <td>IS Mass Model</td>\n",
       "      <td>Kazakhstan</td>\n",
       "      <td>Asia</td>\n",
       "    </tr>\n",
       "    <tr>\n",
       "      <th>4623</th>\n",
       "      <td>Yuzhmash</td>\n",
       "      <td>Baikonur Cosmodrome</td>\n",
       "      <td>1969</td>\n",
       "      <td>Tsyklon-2</td>\n",
       "      <td>1</td>\n",
       "      <td>Retired</td>\n",
       "      <td>IS Mass Model</td>\n",
       "      <td>Kazakhstan</td>\n",
       "      <td>Asia</td>\n",
       "    </tr>\n",
       "    <tr>\n",
       "      <th>4623</th>\n",
       "      <td>Yuzhmash</td>\n",
       "      <td>Kazakhstan</td>\n",
       "      <td>1969</td>\n",
       "      <td>Tsyklon-2</td>\n",
       "      <td>1</td>\n",
       "      <td>Retired</td>\n",
       "      <td>IS Mass Model</td>\n",
       "      <td>Kazakhstan</td>\n",
       "      <td>Asia</td>\n",
       "    </tr>\n",
       "  </tbody>\n",
       "</table>\n",
       "<p>15637 rows × 9 columns</p>\n",
       "</div>"
      ],
      "text/plain": [
       "       Company                 Location  Year     Rocket  MissionStatus  \\\n",
       "0          AEB                  VLS Pad  1997      VLS-1              0   \n",
       "0          AEB  Alcântara Launch Center  1997      VLS-1              0   \n",
       "0          AEB                 Maranhão  1997      VLS-1              0   \n",
       "0          AEB                   Brazil  1997      VLS-1              0   \n",
       "1          AEB                  VLS Pad  1999      VLS-1              0   \n",
       "...        ...                      ...   ...        ...            ...   \n",
       "4622  Yuzhmash      Plesetsk Cosmodrome  1991  Tsyklon-3              1   \n",
       "4622  Yuzhmash                   Russia  1991  Tsyklon-3              1   \n",
       "4623  Yuzhmash               Site 90/20  1969  Tsyklon-2              1   \n",
       "4623  Yuzhmash      Baikonur Cosmodrome  1969  Tsyklon-2              1   \n",
       "4623  Yuzhmash               Kazakhstan  1969  Tsyklon-2              1   \n",
       "\n",
       "     RocketStatus                    Mission     Country      Continent  \n",
       "0         Retired                     SCD-2A      Brazil  South America  \n",
       "0         Retired                     SCD-2A      Brazil  South America  \n",
       "0         Retired                     SCD-2A      Brazil  South America  \n",
       "0         Retired                     SCD-2A      Brazil  South America  \n",
       "1         Retired                     SACI-2      Brazil  South America  \n",
       "...           ...                        ...         ...            ...  \n",
       "4622      Retired  Intercosmos 25 & Magion 3      Russia    Asia/Europe  \n",
       "4622      Retired  Intercosmos 25 & Magion 3      Russia    Asia/Europe  \n",
       "4623      Retired              IS Mass Model  Kazakhstan           Asia  \n",
       "4623      Retired              IS Mass Model  Kazakhstan           Asia  \n",
       "4623      Retired              IS Mass Model  Kazakhstan           Asia  \n",
       "\n",
       "[15637 rows x 9 columns]"
      ]
     },
     "execution_count": 51,
     "metadata": {},
     "output_type": "execute_result"
    }
   ],
   "source": [
    "# Simply cheaking my Data\n",
    "data"
   ]
  },
  {
   "cell_type": "markdown",
   "id": "98ea15e6",
   "metadata": {},
   "source": [
    "# 27 Which continent has the highest frequency of rocket launches according to the dataset, and how can this be determined?"
   ]
  },
  {
   "cell_type": "code",
   "execution_count": 52,
   "id": "70b57a25",
   "metadata": {},
   "outputs": [
    {
     "data": {
      "text/plain": [
       "0    North America\n",
       "Name: Continent, dtype: object"
      ]
     },
     "execution_count": 52,
     "metadata": {},
     "output_type": "execute_result"
    }
   ],
   "source": [
    "data['Continent'].mode()"
   ]
  },
  {
   "cell_type": "markdown",
   "id": "a063ca26",
   "metadata": {},
   "source": [
    "North America has the highest frequency of rocket launches according to the dataset."
   ]
  },
  {
   "cell_type": "code",
   "execution_count": 53,
   "id": "2cd067db",
   "metadata": {},
   "outputs": [
    {
     "data": {
      "text/html": [
       "<div>\n",
       "<style scoped>\n",
       "    .dataframe tbody tr th:only-of-type {\n",
       "        vertical-align: middle;\n",
       "    }\n",
       "\n",
       "    .dataframe tbody tr th {\n",
       "        vertical-align: top;\n",
       "    }\n",
       "\n",
       "    .dataframe thead th {\n",
       "        text-align: right;\n",
       "    }\n",
       "</style>\n",
       "<table border=\"1\" class=\"dataframe\">\n",
       "  <thead>\n",
       "    <tr style=\"text-align: right;\">\n",
       "      <th></th>\n",
       "      <th>Company</th>\n",
       "      <th>Location</th>\n",
       "      <th>Year</th>\n",
       "      <th>Rocket</th>\n",
       "      <th>MissionStatus</th>\n",
       "      <th>RocketStatus</th>\n",
       "      <th>Mission</th>\n",
       "      <th>Country</th>\n",
       "      <th>Continent</th>\n",
       "    </tr>\n",
       "  </thead>\n",
       "  <tbody>\n",
       "    <tr>\n",
       "      <th>4</th>\n",
       "      <td>AMBA</td>\n",
       "      <td>LC-26A</td>\n",
       "      <td>1958</td>\n",
       "      <td>Juno I</td>\n",
       "      <td>1</td>\n",
       "      <td>Retired</td>\n",
       "      <td>Explorer 1</td>\n",
       "      <td>USA</td>\n",
       "      <td>North America</td>\n",
       "    </tr>\n",
       "    <tr>\n",
       "      <th>4</th>\n",
       "      <td>AMBA</td>\n",
       "      <td>Cape Canaveral AFS</td>\n",
       "      <td>1958</td>\n",
       "      <td>Juno I</td>\n",
       "      <td>1</td>\n",
       "      <td>Retired</td>\n",
       "      <td>Explorer 1</td>\n",
       "      <td>USA</td>\n",
       "      <td>North America</td>\n",
       "    </tr>\n",
       "    <tr>\n",
       "      <th>4</th>\n",
       "      <td>AMBA</td>\n",
       "      <td>Florida</td>\n",
       "      <td>1958</td>\n",
       "      <td>Juno I</td>\n",
       "      <td>1</td>\n",
       "      <td>Retired</td>\n",
       "      <td>Explorer 1</td>\n",
       "      <td>USA</td>\n",
       "      <td>North America</td>\n",
       "    </tr>\n",
       "    <tr>\n",
       "      <th>4</th>\n",
       "      <td>AMBA</td>\n",
       "      <td>USA</td>\n",
       "      <td>1958</td>\n",
       "      <td>Juno I</td>\n",
       "      <td>1</td>\n",
       "      <td>Retired</td>\n",
       "      <td>Explorer 1</td>\n",
       "      <td>USA</td>\n",
       "      <td>North America</td>\n",
       "    </tr>\n",
       "    <tr>\n",
       "      <th>5</th>\n",
       "      <td>AMBA</td>\n",
       "      <td>LC-26A</td>\n",
       "      <td>1958</td>\n",
       "      <td>Juno I</td>\n",
       "      <td>0</td>\n",
       "      <td>Retired</td>\n",
       "      <td>Explorer 2</td>\n",
       "      <td>USA</td>\n",
       "      <td>North America</td>\n",
       "    </tr>\n",
       "    <tr>\n",
       "      <th>...</th>\n",
       "      <td>...</td>\n",
       "      <td>...</td>\n",
       "      <td>...</td>\n",
       "      <td>...</td>\n",
       "      <td>...</td>\n",
       "      <td>...</td>\n",
       "      <td>...</td>\n",
       "      <td>...</td>\n",
       "      <td>...</td>\n",
       "    </tr>\n",
       "    <tr>\n",
       "      <th>4405</th>\n",
       "      <td>Virgin Orbit</td>\n",
       "      <td>USA</td>\n",
       "      <td>2022</td>\n",
       "      <td>LauncherOne</td>\n",
       "      <td>1</td>\n",
       "      <td>Active</td>\n",
       "      <td>STP-S28A</td>\n",
       "      <td>USA</td>\n",
       "      <td>North America</td>\n",
       "    </tr>\n",
       "    <tr>\n",
       "      <th>4406</th>\n",
       "      <td>Virgin Orbit</td>\n",
       "      <td>Cosmic Girl</td>\n",
       "      <td>2022</td>\n",
       "      <td>LauncherOne</td>\n",
       "      <td>1</td>\n",
       "      <td>Active</td>\n",
       "      <td>STP-27VPB/Above the Clouds</td>\n",
       "      <td>USA</td>\n",
       "      <td>North America</td>\n",
       "    </tr>\n",
       "    <tr>\n",
       "      <th>4406</th>\n",
       "      <td>Virgin Orbit</td>\n",
       "      <td>Mojave Air and Space Port</td>\n",
       "      <td>2022</td>\n",
       "      <td>LauncherOne</td>\n",
       "      <td>1</td>\n",
       "      <td>Active</td>\n",
       "      <td>STP-27VPB/Above the Clouds</td>\n",
       "      <td>USA</td>\n",
       "      <td>North America</td>\n",
       "    </tr>\n",
       "    <tr>\n",
       "      <th>4406</th>\n",
       "      <td>Virgin Orbit</td>\n",
       "      <td>California</td>\n",
       "      <td>2022</td>\n",
       "      <td>LauncherOne</td>\n",
       "      <td>1</td>\n",
       "      <td>Active</td>\n",
       "      <td>STP-27VPB/Above the Clouds</td>\n",
       "      <td>USA</td>\n",
       "      <td>North America</td>\n",
       "    </tr>\n",
       "    <tr>\n",
       "      <th>4406</th>\n",
       "      <td>Virgin Orbit</td>\n",
       "      <td>USA</td>\n",
       "      <td>2022</td>\n",
       "      <td>LauncherOne</td>\n",
       "      <td>1</td>\n",
       "      <td>Active</td>\n",
       "      <td>STP-27VPB/Above the Clouds</td>\n",
       "      <td>USA</td>\n",
       "      <td>North America</td>\n",
       "    </tr>\n",
       "  </tbody>\n",
       "</table>\n",
       "<p>5880 rows × 9 columns</p>\n",
       "</div>"
      ],
      "text/plain": [
       "           Company                   Location  Year       Rocket  \\\n",
       "4             AMBA                     LC-26A  1958       Juno I   \n",
       "4             AMBA         Cape Canaveral AFS  1958       Juno I   \n",
       "4             AMBA                    Florida  1958       Juno I   \n",
       "4             AMBA                        USA  1958       Juno I   \n",
       "5             AMBA                     LC-26A  1958       Juno I   \n",
       "...            ...                        ...   ...          ...   \n",
       "4405  Virgin Orbit                        USA  2022  LauncherOne   \n",
       "4406  Virgin Orbit                Cosmic Girl  2022  LauncherOne   \n",
       "4406  Virgin Orbit  Mojave Air and Space Port  2022  LauncherOne   \n",
       "4406  Virgin Orbit                 California  2022  LauncherOne   \n",
       "4406  Virgin Orbit                        USA  2022  LauncherOne   \n",
       "\n",
       "      MissionStatus RocketStatus                     Mission Country  \\\n",
       "4                 1      Retired                  Explorer 1     USA   \n",
       "4                 1      Retired                  Explorer 1     USA   \n",
       "4                 1      Retired                  Explorer 1     USA   \n",
       "4                 1      Retired                  Explorer 1     USA   \n",
       "5                 0      Retired                  Explorer 2     USA   \n",
       "...             ...          ...                         ...     ...   \n",
       "4405              1       Active                    STP-S28A     USA   \n",
       "4406              1       Active  STP-27VPB/Above the Clouds     USA   \n",
       "4406              1       Active  STP-27VPB/Above the Clouds     USA   \n",
       "4406              1       Active  STP-27VPB/Above the Clouds     USA   \n",
       "4406              1       Active  STP-27VPB/Above the Clouds     USA   \n",
       "\n",
       "          Continent  \n",
       "4     North America  \n",
       "4     North America  \n",
       "4     North America  \n",
       "4     North America  \n",
       "5     North America  \n",
       "...             ...  \n",
       "4405  North America  \n",
       "4406  North America  \n",
       "4406  North America  \n",
       "4406  North America  \n",
       "4406  North America  \n",
       "\n",
       "[5880 rows x 9 columns]"
      ]
     },
     "execution_count": 53,
     "metadata": {},
     "output_type": "execute_result"
    }
   ],
   "source": [
    "max_cindinent=data[data['Continent']=='North America']\n",
    "max_cindinent"
   ]
  },
  {
   "cell_type": "markdown",
   "id": "128b8648",
   "metadata": {},
   "source": [
    "# 28 in the North America condinent Which company has launched the most rockets according to the dataset, and what is the total number of times that this company has launched rockets?"
   ]
  },
  {
   "cell_type": "code",
   "execution_count": 54,
   "id": "c5696827",
   "metadata": {},
   "outputs": [
    {
     "name": "stdout",
     "output_type": "stream",
     "text": [
      "General Dynamics    1004\n",
      "NASA                 812\n",
      "SpaceX               724\n",
      "US Air Force         644\n",
      "ULA                  604\n",
      "                    ... \n",
      "JAXA                   0\n",
      "KARI                   0\n",
      "Khrunichev             0\n",
      "Kosmotras              0\n",
      "i-Space                0\n",
      "Name: Company, Length: 62, dtype: int64\n",
      " The maximum time of company launch the rocket is: General Dynamics\n",
      " The No of maximum time of company launch the rocket is: 1004\n"
     ]
    }
   ],
   "source": [
    "Max_company=max_cindinent['Company'].value_counts()\n",
    "print(Max_company)\n",
    "\n",
    "max_company_count=Max_company.idxmax()\n",
    "print(f' The maximum time of company launch the rocket is: {max_company_count}')\n",
    "\n",
    "No_max_company_count=Max_company.max()\n",
    "print(f' The No of maximum time of company launch the rocket is: {No_max_company_count}')"
   ]
  },
  {
   "cell_type": "markdown",
   "id": "ea10cd56",
   "metadata": {},
   "source": [
    "In the North America condinent:\n",
    "The maximum time of company launch the rocket is: General Dynamics\n",
    "The No of maximum time of company launch the rocket is: 1004"
   ]
  },
  {
   "cell_type": "markdown",
   "id": "16cc51aa",
   "metadata": {},
   "source": [
    "# 29 In the North America condinent Which years had the highest number of rocket launches according to the dataset, and what were the launch counts for those years?"
   ]
  },
  {
   "cell_type": "code",
   "execution_count": 55,
   "id": "bec760cc",
   "metadata": {},
   "outputs": [
    {
     "data": {
      "text/plain": [
       "1962    240\n",
       "2021    226\n",
       "1966    188\n",
       "2022    181\n",
       "1961    172\n",
       "Name: Year, dtype: int64"
      ]
     },
     "execution_count": 55,
     "metadata": {},
     "output_type": "execute_result"
    }
   ],
   "source": [
    "max_cindinent[\"Year\"].value_counts().nlargest()"
   ]
  },
  {
   "cell_type": "markdown",
   "id": "a72bdc2c",
   "metadata": {},
   "source": [
    "In the North America condinent:\n",
    "    in 1962 has 240 time should launch the rocket.\n",
    "    This is the maximum time in 1962 at North America condinent\n",
    "    "
   ]
  },
  {
   "cell_type": "markdown",
   "id": "b3033302",
   "metadata": {},
   "source": [
    "# 30 How does the mission success rate vary across different years and continents for the rocket launches in the dataset, and how can this variation be summarized ?"
   ]
  },
  {
   "cell_type": "code",
   "execution_count": 56,
   "id": "602d32b8",
   "metadata": {},
   "outputs": [
    {
     "data": {
      "text/html": [
       "<div>\n",
       "<style scoped>\n",
       "    .dataframe tbody tr th:only-of-type {\n",
       "        vertical-align: middle;\n",
       "    }\n",
       "\n",
       "    .dataframe tbody tr th {\n",
       "        vertical-align: top;\n",
       "    }\n",
       "\n",
       "    .dataframe thead th {\n",
       "        text-align: right;\n",
       "    }\n",
       "</style>\n",
       "<table border=\"1\" class=\"dataframe\">\n",
       "  <thead>\n",
       "    <tr style=\"text-align: right;\">\n",
       "      <th></th>\n",
       "      <th></th>\n",
       "      <th>MissionStatus</th>\n",
       "    </tr>\n",
       "    <tr>\n",
       "      <th>Year</th>\n",
       "      <th>Continent</th>\n",
       "      <th></th>\n",
       "    </tr>\n",
       "  </thead>\n",
       "  <tbody>\n",
       "    <tr>\n",
       "      <th rowspan=\"2\" valign=\"top\">1957</th>\n",
       "      <th>Asia</th>\n",
       "      <td>1.000000</td>\n",
       "    </tr>\n",
       "    <tr>\n",
       "      <th>North America</th>\n",
       "      <td>0.000000</td>\n",
       "    </tr>\n",
       "    <tr>\n",
       "      <th rowspan=\"2\" valign=\"top\">1958</th>\n",
       "      <th>Asia</th>\n",
       "      <td>0.200000</td>\n",
       "    </tr>\n",
       "    <tr>\n",
       "      <th>North America</th>\n",
       "      <td>0.217391</td>\n",
       "    </tr>\n",
       "    <tr>\n",
       "      <th>1959</th>\n",
       "      <th>Asia</th>\n",
       "      <td>0.500000</td>\n",
       "    </tr>\n",
       "    <tr>\n",
       "      <th>...</th>\n",
       "      <th>...</th>\n",
       "      <td>...</td>\n",
       "    </tr>\n",
       "    <tr>\n",
       "      <th rowspan=\"5\" valign=\"top\">2022</th>\n",
       "      <th>Asia</th>\n",
       "      <td>0.970000</td>\n",
       "    </tr>\n",
       "    <tr>\n",
       "      <th>Asia/Europe</th>\n",
       "      <td>1.000000</td>\n",
       "    </tr>\n",
       "    <tr>\n",
       "      <th>Australia/Oceania</th>\n",
       "      <td>1.000000</td>\n",
       "    </tr>\n",
       "    <tr>\n",
       "      <th>Europe</th>\n",
       "      <td>1.000000</td>\n",
       "    </tr>\n",
       "    <tr>\n",
       "      <th>North America</th>\n",
       "      <td>0.955801</td>\n",
       "    </tr>\n",
       "  </tbody>\n",
       "</table>\n",
       "<p>285 rows × 1 columns</p>\n",
       "</div>"
      ],
      "text/plain": [
       "                        MissionStatus\n",
       "Year Continent                       \n",
       "1957 Asia                    1.000000\n",
       "     North America           0.000000\n",
       "1958 Asia                    0.200000\n",
       "     North America           0.217391\n",
       "1959 Asia                    0.500000\n",
       "...                               ...\n",
       "2022 Asia                    0.970000\n",
       "     Asia/Europe             1.000000\n",
       "     Australia/Oceania       1.000000\n",
       "     Europe                  1.000000\n",
       "     North America           0.955801\n",
       "\n",
       "[285 rows x 1 columns]"
      ]
     },
     "execution_count": 56,
     "metadata": {},
     "output_type": "execute_result"
    }
   ],
   "source": [
    "multi_group_var=data.\\\n",
    "    groupby(['Year','Continent'])\\\n",
    "    [['MissionStatus']].\\\n",
    "    mean()\n",
    "multi_group_var"
   ]
  },
  {
   "cell_type": "markdown",
   "id": "f87b7a0c",
   "metadata": {},
   "source": [
    "Interprataion:\n",
    "\n",
    "In this output, you have 'Year' and 'Continent' as the multi-index, and the 'MissionStatus' column represents the mean value of mission statuses for each combination of 'Year' and 'Continent'. This allows you to see the average mission status for different continents in different years, assuming 'MissionStatus' is a numeric column that represents some measure of success or status for missions"
   ]
  },
  {
   "cell_type": "code",
   "execution_count": 57,
   "id": "d7368e4a",
   "metadata": {},
   "outputs": [],
   "source": [
    "data.to_csv(\"Rocket_data_cleaned.csv\")"
   ]
  },
  {
   "cell_type": "code",
   "execution_count": null,
   "id": "c4e5130c",
   "metadata": {},
   "outputs": [],
   "source": []
  },
  {
   "cell_type": "code",
   "execution_count": null,
   "id": "9a7b4b3c",
   "metadata": {},
   "outputs": [],
   "source": []
  }
 ],
 "metadata": {
  "kernelspec": {
   "display_name": "Python 3 (ipykernel)",
   "language": "python",
   "name": "python3"
  },
  "language_info": {
   "codemirror_mode": {
    "name": "ipython",
    "version": 3
   },
   "file_extension": ".py",
   "mimetype": "text/x-python",
   "name": "python",
   "nbconvert_exporter": "python",
   "pygments_lexer": "ipython3",
   "version": "3.9.13"
  }
 },
 "nbformat": 4,
 "nbformat_minor": 5
}
